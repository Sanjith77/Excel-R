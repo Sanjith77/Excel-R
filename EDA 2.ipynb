{
 "cells": [
  {
   "cell_type": "code",
   "execution_count": null,
   "id": "6731f924-6b8c-4090-b549-c444fc897ab6",
   "metadata": {},
   "outputs": [],
   "source": [
    "Step 1: Import Libraries"
   ]
  },
  {
   "cell_type": "code",
   "execution_count": 1,
   "id": "9e0e4341-b960-4562-bfea-6baaba66c57e",
   "metadata": {},
   "outputs": [],
   "source": [
    "import pandas as pd\n",
    "import numpy as np\n",
    "from sklearn.preprocessing import StandardScaler, MinMaxScaler, LabelEncoder, OneHotEncoder\n",
    "from sklearn.ensemble import IsolationForest\n",
    "import seaborn as sns\n",
    "import matplotlib.pyplot as plt"
   ]
  },
  {
   "cell_type": "code",
   "execution_count": null,
   "id": "6e2e5de5-642f-49f0-85ee-0fa2eb1d8562",
   "metadata": {},
   "outputs": [],
   "source": []
  },
  {
   "cell_type": "code",
   "execution_count": null,
   "id": "3218023b-a57a-433c-88bb-086f74fcc7e7",
   "metadata": {},
   "outputs": [],
   "source": [
    "Step 2: Load the Dataset"
   ]
  },
  {
   "cell_type": "code",
   "execution_count": 2,
   "id": "ef5b8567-f023-43aa-bfe1-0650387ba5f9",
   "metadata": {},
   "outputs": [],
   "source": [
    "df = pd.read_csv(\"adult_with_headers.csv\")"
   ]
  },
  {
   "cell_type": "code",
   "execution_count": 3,
   "id": "8067002f-5f3f-4c9c-b1be-ee3387e7f5db",
   "metadata": {},
   "outputs": [
    {
     "data": {
      "text/html": [
       "<div>\n",
       "<style scoped>\n",
       "    .dataframe tbody tr th:only-of-type {\n",
       "        vertical-align: middle;\n",
       "    }\n",
       "\n",
       "    .dataframe tbody tr th {\n",
       "        vertical-align: top;\n",
       "    }\n",
       "\n",
       "    .dataframe thead th {\n",
       "        text-align: right;\n",
       "    }\n",
       "</style>\n",
       "<table border=\"1\" class=\"dataframe\">\n",
       "  <thead>\n",
       "    <tr style=\"text-align: right;\">\n",
       "      <th></th>\n",
       "      <th>age</th>\n",
       "      <th>workclass</th>\n",
       "      <th>fnlwgt</th>\n",
       "      <th>education</th>\n",
       "      <th>education_num</th>\n",
       "      <th>marital_status</th>\n",
       "      <th>occupation</th>\n",
       "      <th>relationship</th>\n",
       "      <th>race</th>\n",
       "      <th>sex</th>\n",
       "      <th>capital_gain</th>\n",
       "      <th>capital_loss</th>\n",
       "      <th>hours_per_week</th>\n",
       "      <th>native_country</th>\n",
       "      <th>income</th>\n",
       "    </tr>\n",
       "  </thead>\n",
       "  <tbody>\n",
       "    <tr>\n",
       "      <th>0</th>\n",
       "      <td>39</td>\n",
       "      <td>State-gov</td>\n",
       "      <td>77516</td>\n",
       "      <td>Bachelors</td>\n",
       "      <td>13</td>\n",
       "      <td>Never-married</td>\n",
       "      <td>Adm-clerical</td>\n",
       "      <td>Not-in-family</td>\n",
       "      <td>White</td>\n",
       "      <td>Male</td>\n",
       "      <td>2174</td>\n",
       "      <td>0</td>\n",
       "      <td>40</td>\n",
       "      <td>United-States</td>\n",
       "      <td>&lt;=50K</td>\n",
       "    </tr>\n",
       "    <tr>\n",
       "      <th>1</th>\n",
       "      <td>50</td>\n",
       "      <td>Self-emp-not-inc</td>\n",
       "      <td>83311</td>\n",
       "      <td>Bachelors</td>\n",
       "      <td>13</td>\n",
       "      <td>Married-civ-spouse</td>\n",
       "      <td>Exec-managerial</td>\n",
       "      <td>Husband</td>\n",
       "      <td>White</td>\n",
       "      <td>Male</td>\n",
       "      <td>0</td>\n",
       "      <td>0</td>\n",
       "      <td>13</td>\n",
       "      <td>United-States</td>\n",
       "      <td>&lt;=50K</td>\n",
       "    </tr>\n",
       "    <tr>\n",
       "      <th>2</th>\n",
       "      <td>38</td>\n",
       "      <td>Private</td>\n",
       "      <td>215646</td>\n",
       "      <td>HS-grad</td>\n",
       "      <td>9</td>\n",
       "      <td>Divorced</td>\n",
       "      <td>Handlers-cleaners</td>\n",
       "      <td>Not-in-family</td>\n",
       "      <td>White</td>\n",
       "      <td>Male</td>\n",
       "      <td>0</td>\n",
       "      <td>0</td>\n",
       "      <td>40</td>\n",
       "      <td>United-States</td>\n",
       "      <td>&lt;=50K</td>\n",
       "    </tr>\n",
       "    <tr>\n",
       "      <th>3</th>\n",
       "      <td>53</td>\n",
       "      <td>Private</td>\n",
       "      <td>234721</td>\n",
       "      <td>11th</td>\n",
       "      <td>7</td>\n",
       "      <td>Married-civ-spouse</td>\n",
       "      <td>Handlers-cleaners</td>\n",
       "      <td>Husband</td>\n",
       "      <td>Black</td>\n",
       "      <td>Male</td>\n",
       "      <td>0</td>\n",
       "      <td>0</td>\n",
       "      <td>40</td>\n",
       "      <td>United-States</td>\n",
       "      <td>&lt;=50K</td>\n",
       "    </tr>\n",
       "    <tr>\n",
       "      <th>4</th>\n",
       "      <td>28</td>\n",
       "      <td>Private</td>\n",
       "      <td>338409</td>\n",
       "      <td>Bachelors</td>\n",
       "      <td>13</td>\n",
       "      <td>Married-civ-spouse</td>\n",
       "      <td>Prof-specialty</td>\n",
       "      <td>Wife</td>\n",
       "      <td>Black</td>\n",
       "      <td>Female</td>\n",
       "      <td>0</td>\n",
       "      <td>0</td>\n",
       "      <td>40</td>\n",
       "      <td>Cuba</td>\n",
       "      <td>&lt;=50K</td>\n",
       "    </tr>\n",
       "  </tbody>\n",
       "</table>\n",
       "</div>"
      ],
      "text/plain": [
       "   age          workclass  fnlwgt   education  education_num  \\\n",
       "0   39          State-gov   77516   Bachelors             13   \n",
       "1   50   Self-emp-not-inc   83311   Bachelors             13   \n",
       "2   38            Private  215646     HS-grad              9   \n",
       "3   53            Private  234721        11th              7   \n",
       "4   28            Private  338409   Bachelors             13   \n",
       "\n",
       "        marital_status          occupation    relationship    race      sex  \\\n",
       "0        Never-married        Adm-clerical   Not-in-family   White     Male   \n",
       "1   Married-civ-spouse     Exec-managerial         Husband   White     Male   \n",
       "2             Divorced   Handlers-cleaners   Not-in-family   White     Male   \n",
       "3   Married-civ-spouse   Handlers-cleaners         Husband   Black     Male   \n",
       "4   Married-civ-spouse      Prof-specialty            Wife   Black   Female   \n",
       "\n",
       "   capital_gain  capital_loss  hours_per_week  native_country  income  \n",
       "0          2174             0              40   United-States   <=50K  \n",
       "1             0             0              13   United-States   <=50K  \n",
       "2             0             0              40   United-States   <=50K  \n",
       "3             0             0              40   United-States   <=50K  \n",
       "4             0             0              40            Cuba   <=50K  "
      ]
     },
     "execution_count": 3,
     "metadata": {},
     "output_type": "execute_result"
    }
   ],
   "source": [
    "df.head()"
   ]
  },
  {
   "cell_type": "code",
   "execution_count": null,
   "id": "c3e32955-27e8-4a1a-b9b7-9ecdb3e5a19d",
   "metadata": {},
   "outputs": [],
   "source": []
  },
  {
   "cell_type": "code",
   "execution_count": 5,
   "id": "3304d8c1-4636-4667-bfbf-2cb1d39894e7",
   "metadata": {},
   "outputs": [],
   "source": [
    "#Step 3: Data Exploration\n",
    "Data Exploration and Preprocessing"
   ]
  },
  {
   "cell_type": "code",
   "execution_count": 6,
   "id": "c26407aa-7879-485d-bd1e-5ca550331b21",
   "metadata": {},
   "outputs": [
    {
     "name": "stdout",
     "output_type": "stream",
     "text": [
      "                age        fnlwgt  education_num  capital_gain  capital_loss  \\\n",
      "count  32561.000000  3.256100e+04   32561.000000  32561.000000  32561.000000   \n",
      "mean      38.581647  1.897784e+05      10.080679   1077.648844     87.303830   \n",
      "std       13.640433  1.055500e+05       2.572720   7385.292085    402.960219   \n",
      "min       17.000000  1.228500e+04       1.000000      0.000000      0.000000   \n",
      "25%       28.000000  1.178270e+05       9.000000      0.000000      0.000000   \n",
      "50%       37.000000  1.783560e+05      10.000000      0.000000      0.000000   \n",
      "75%       48.000000  2.370510e+05      12.000000      0.000000      0.000000   \n",
      "max       90.000000  1.484705e+06      16.000000  99999.000000   4356.000000   \n",
      "\n",
      "       hours_per_week  \n",
      "count    32561.000000  \n",
      "mean        40.437456  \n",
      "std         12.347429  \n",
      "min          1.000000  \n",
      "25%         40.000000  \n",
      "50%         40.000000  \n",
      "75%         45.000000  \n",
      "max         99.000000  \n"
     ]
    }
   ],
   "source": [
    "print(df.describe())"
   ]
  },
  {
   "cell_type": "code",
   "execution_count": 7,
   "id": "fab8c4c4-34f7-427b-a7e5-2a5407ed37e7",
   "metadata": {},
   "outputs": [
    {
     "name": "stdout",
     "output_type": "stream",
     "text": [
      "age                int64\n",
      "workclass         object\n",
      "fnlwgt             int64\n",
      "education         object\n",
      "education_num      int64\n",
      "marital_status    object\n",
      "occupation        object\n",
      "relationship      object\n",
      "race              object\n",
      "sex               object\n",
      "capital_gain       int64\n",
      "capital_loss       int64\n",
      "hours_per_week     int64\n",
      "native_country    object\n",
      "income            object\n",
      "dtype: object\n"
     ]
    }
   ],
   "source": [
    "print(df.dtypes)"
   ]
  },
  {
   "cell_type": "code",
   "execution_count": 8,
   "id": "a315483d-76fc-4704-bf57-925282706f23",
   "metadata": {},
   "outputs": [
    {
     "name": "stdout",
     "output_type": "stream",
     "text": [
      "age               0\n",
      "workclass         0\n",
      "fnlwgt            0\n",
      "education         0\n",
      "education_num     0\n",
      "marital_status    0\n",
      "occupation        0\n",
      "relationship      0\n",
      "race              0\n",
      "sex               0\n",
      "capital_gain      0\n",
      "capital_loss      0\n",
      "hours_per_week    0\n",
      "native_country    0\n",
      "income            0\n",
      "dtype: int64\n"
     ]
    }
   ],
   "source": [
    "print(df.isnull().sum())"
   ]
  },
  {
   "cell_type": "code",
   "execution_count": 10,
   "id": "2f2860ff-540b-4f60-9e5c-7b6dc3129b29",
   "metadata": {},
   "outputs": [
    {
     "name": "stdout",
     "output_type": "stream",
     "text": [
      "Index(['age', 'workclass', 'fnlwgt', 'education', 'education_num',\n",
      "       'marital_status', 'occupation', 'relationship', 'race', 'sex',\n",
      "       'capital_gain', 'capital_loss', 'hours_per_week', 'native_country',\n",
      "       'income'],\n",
      "      dtype='object')\n"
     ]
    }
   ],
   "source": [
    "print(df.columns)"
   ]
  },
  {
   "cell_type": "code",
   "execution_count": 13,
   "id": "4344b78c-6ee7-4339-bb41-c0b1c90e2821",
   "metadata": {},
   "outputs": [],
   "source": [
    "df.columns = df.columns.str.strip()"
   ]
  },
  {
   "cell_type": "code",
   "execution_count": 14,
   "id": "fe63b99f-c893-4e39-a98d-4fd6c3d41e01",
   "metadata": {},
   "outputs": [],
   "source": [
    "numerical_col = 'actual_numerical_column_name'\n",
    "categorical_col = 'actual_categorical_column_name'"
   ]
  },
  {
   "cell_type": "code",
   "execution_count": 15,
   "id": "d9c21635-34d9-46c5-a452-a2109216af6a",
   "metadata": {},
   "outputs": [
    {
     "name": "stdout",
     "output_type": "stream",
     "text": [
      "Numerical Columns: Index(['age', 'fnlwgt', 'education_num', 'capital_gain', 'capital_loss',\n",
      "       'hours_per_week'],\n",
      "      dtype='object')\n"
     ]
    }
   ],
   "source": [
    "print(\"Numerical Columns:\", df.select_dtypes(include=['number']).columns)"
   ]
  },
  {
   "cell_type": "code",
   "execution_count": 16,
   "id": "e566c0ee-8fb0-44cf-9fff-2515369b359a",
   "metadata": {},
   "outputs": [
    {
     "name": "stdout",
     "output_type": "stream",
     "text": [
      "Categorical Columns: Index(['workclass', 'education', 'marital_status', 'occupation',\n",
      "       'relationship', 'race', 'sex', 'native_country', 'income'],\n",
      "      dtype='object')\n"
     ]
    }
   ],
   "source": [
    "print(\"Categorical Columns:\", df.select_dtypes(include=['object']).columns)"
   ]
  },
  {
   "cell_type": "code",
   "execution_count": 17,
   "id": "1bb29520-6ef1-4649-bffe-bbc4ee1c6b23",
   "metadata": {},
   "outputs": [],
   "source": [
    "for col in df.select_dtypes(include=['number']).columns:\n",
    "    df[col] = df[col].fillna(df[col].mean())"
   ]
  },
  {
   "cell_type": "code",
   "execution_count": null,
   "id": "f78a1f1c-fbbc-48ed-83e0-49a226c1c50c",
   "metadata": {},
   "outputs": [],
   "source": []
  },
  {
   "cell_type": "code",
   "execution_count": 18,
   "id": "b93e27f4-9c3f-42b6-b380-02894a27e088",
   "metadata": {},
   "outputs": [],
   "source": [
    "for col in df.select_dtypes(include=['object']).columns:\n",
    "    df[col] = df[col].fillna(df[col].mode()[0])"
   ]
  },
  {
   "cell_type": "code",
   "execution_count": null,
   "id": "89fad638-bb4d-444e-8650-988785740150",
   "metadata": {},
   "outputs": [],
   "source": []
  },
  {
   "cell_type": "code",
   "execution_count": 19,
   "id": "d1d79d35-dd6a-43da-a679-884f7107d587",
   "metadata": {},
   "outputs": [
    {
     "name": "stdout",
     "output_type": "stream",
     "text": [
      "Index(['age', 'workclass', 'fnlwgt', 'education', 'education_num',\n",
      "       'marital_status', 'occupation', 'relationship', 'race', 'sex',\n",
      "       'capital_gain', 'capital_loss', 'hours_per_week', 'native_country',\n",
      "       'income'],\n",
      "      dtype='object')\n"
     ]
    }
   ],
   "source": [
    "print(df.columns)"
   ]
  },
  {
   "cell_type": "code",
   "execution_count": 20,
   "id": "81d6c97e-7bd5-4022-b910-0bf73c757843",
   "metadata": {},
   "outputs": [],
   "source": [
    "numerical_col = 'correct_column_name'"
   ]
  },
  {
   "cell_type": "code",
   "execution_count": null,
   "id": "b8c9c1ec-2dc4-4e9e-8f2b-cd37ee378189",
   "metadata": {},
   "outputs": [],
   "source": []
  },
  {
   "cell_type": "code",
   "execution_count": 21,
   "id": "388d8395-faf6-4d6a-afbc-540e0e62038e",
   "metadata": {},
   "outputs": [],
   "source": [
    "scaler = StandardScaler()\n",
    "df['standard_scaled_column'] = scaler.fit_transform"
   ]
  },
  {
   "cell_type": "code",
   "execution_count": 23,
   "id": "35656dd4-3128-481a-846f-d115d6abcf0a",
   "metadata": {},
   "outputs": [],
   "source": [
    "minmax_scaler = MinMaxScaler()\n",
    "df['minmax_scaled_column'] = minmax_scaler.fit_transform"
   ]
  },
  {
   "cell_type": "markdown",
   "id": "288c13ea-36ab-4239-b84d-721db29b83c0",
   "metadata": {},
   "source": [
    "# Encoding Techniques"
   ]
  },
  {
   "cell_type": "code",
   "execution_count": 24,
   "id": "a4f886f9-d0ea-4754-9b3f-1b9aa69ea52c",
   "metadata": {},
   "outputs": [],
   "source": [
    "label_encoder = LabelEncoder()\n",
    "df['label_encoded_column'] = label_encoder.fit_transform"
   ]
  },
  {
   "cell_type": "code",
   "execution_count": 25,
   "id": "9fb6cc20-b265-4a02-8f60-e49e78f54160",
   "metadata": {},
   "outputs": [],
   "source": [
    "df = pd.get_dummies(df, columns=['sex', 'relationship', 'race'], drop_first=True)"
   ]
  },
  {
   "cell_type": "code",
   "execution_count": 28,
   "id": "5d659392-1c69-47b0-bc60-45bf5119c666",
   "metadata": {},
   "outputs": [],
   "source": [
    "from sklearn.preprocessing import LabelEncoder\n",
    "\n",
    "le = LabelEncoder()\n",
    "df['workclass'] = le.fit_transform(df['workclass'])\n",
    "df['education'] = le.fit_transform(df['education'])\n",
    "df['occupation'] = le.fit_transform(df['occupation'])\n"
   ]
  },
  {
   "cell_type": "code",
   "execution_count": 29,
   "id": "217c9339-0b3b-42c3-bd08-6ae157a3e2cb",
   "metadata": {},
   "outputs": [],
   "source": [
    "# One-Hot Encoding"
   ]
  },
  {
   "cell_type": "code",
   "execution_count": null,
   "id": "de5130f0-9956-45b9-86aa-681cbb558da4",
   "metadata": {},
   "outputs": [],
   "source": [
    "Pros:\n",
    "No Ordinal Relationship Assumption: One-Hot Encoding does not assume any ordering between categories. This is useful when the categorical feature is nominal (i.e., the categories do not have a meaningful order), such as \"Color\" (Red, Blue, Green).\n",
    "\n",
    "Preventing Algorithm Misinterpretation: Many machine learning algorithms (like decision trees and linear models) may misinterpret numerical encoding as having an ordinal relationship (e.g., \"2\" is greater than \"1\"). One-Hot Encoding avoids this problem because all categories are treated equally.\n",
    "\n",
    "Improved Accuracy for Some Models: In some cases, One-Hot Encoding may lead to better model performance, especially for algorithms that do not inherently handle categorical data, such as linear regression or neural networks."
   ]
  },
  {
   "cell_type": "code",
   "execution_count": null,
   "id": "497a7138-ffca-4dfe-ba56-3bc00177b20a",
   "metadata": {},
   "outputs": [],
   "source": [
    "Cons:\n",
    "Increased Dimensionality: One of the biggest drawbacks is that it increases the dimensionality of the dataset significantly, especially if the categorical feature has many unique values (e.g., a column with 100 different cities will result in 100 new columns). This can lead to higher memory usage and slower model training times.\n",
    "\n",
    "Sparsity: The resulting matrix will be sparse (containing many zeros), which can lead to inefficiencies in both computation and memory usage, particularly with high-cardinality categorical variables (many unique categories).\n",
    "\n",
    "Potential Overfitting: With high cardinality, One-Hot Encoding might cause overfitting in some models, as the model may start to learn very specific patterns related to each category."
   ]
  },
  {
   "cell_type": "code",
   "execution_count": 31,
   "id": "f3581dfc-2f51-4bba-96a6-6bbd740785aa",
   "metadata": {},
   "outputs": [],
   "source": [
    "# Label Encoding\n",
    "# Definition: Label Encoding converts each category into a unique integer"
   ]
  },
  {
   "cell_type": "code",
   "execution_count": null,
   "id": "36af0585-63da-4b33-a793-235e4593adc4",
   "metadata": {},
   "outputs": [],
   "source": [
    "Pros:\n",
    "Simple and Efficient: Label Encoding is computationally efficient because it only requires one column for the entire categorical feature, regardless of how many categories there are. This keeps the feature space small and avoids the issue of dimensionality increase.\n",
    "\n",
    "Works Well for Ordinal Data: Label Encoding is especially useful for ordinal data, where there is a natural order between categories (e.g., \"Low\", \"Medium\", \"High\"). The encoded integers (e.g., 0, 1, 2) preserve the order, which can be beneficial for models that can interpret ordinal relationships (e.g., decision trees, some gradient boosting methods).\n",
    "\n",
    "Memory Efficient: Since Label Encoding only creates a single column of integers, it does not suffer from the high dimensionality or sparsity issues that One-Hot Encoding does."
   ]
  },
  {
   "cell_type": "code",
   "execution_count": null,
   "id": "a51787c4-cb87-4db1-83f9-38b4567a9b9e",
   "metadata": {},
   "outputs": [],
   "source": [
    "Cons:\n",
    "Assumes Ordinality: Label Encoding introduces an implicit ordinal relationship between categories, which might not be appropriate for nominal (unordered) features. For instance, encoding colors [\"Red\", \"Green\", \"Blue\"] as [0, 1, 2] would suggest that \"Green\" is \"greater\" than \"Red\" and \"Blue\" is \"greater\" than \"Green,\" which is nonsensical.\n",
    "Assumes an ordinal relationship, which might not exist."
   ]
  },
  {
   "cell_type": "code",
   "execution_count": null,
   "id": "abffd3e6-a522-4c6a-a050-08d0f48fd66c",
   "metadata": {},
   "outputs": [],
   "source": []
  },
  {
   "cell_type": "markdown",
   "id": "7232187f-e6e1-4613-b661-c6580a468955",
   "metadata": {},
   "source": [
    "# Feature Engineering"
   ]
  },
  {
   "cell_type": "code",
   "execution_count": 33,
   "id": "d17e8269-9751-4ae3-a321-d002bb10deae",
   "metadata": {},
   "outputs": [],
   "source": [
    "df = pd.DataFrame({\n",
    "    'feature1': [1, 2, 3, 4],\n",
    "    'feature2': [5, 6, 7, 8],\n",
    "    'numerical_column': [10, 20, 30, 40],\n",
    "    'group_column': ['A', 'B', 'A', 'B']\n",
    "})\n"
   ]
  },
  {
   "cell_type": "code",
   "execution_count": 34,
   "id": "814e6168-69ee-4ed2-a297-32343555d40a",
   "metadata": {},
   "outputs": [],
   "source": [
    "df['new_feature1'] = df['feature1'] * df['feature2']\n",
    "df['new_feature2'] = df.groupby('group_column')['numerical_column'].transform('mean')"
   ]
  },
  {
   "cell_type": "code",
   "execution_count": 35,
   "id": "5c8b409b-f5e7-415c-b8cf-f84de78ea451",
   "metadata": {},
   "outputs": [],
   "source": [
    "skewed_feature = 'skewed_numerical_column'"
   ]
  },
  {
   "cell_type": "code",
   "execution_count": 39,
   "id": "f2d427f8-6594-49e2-b394-4c67d694679f",
   "metadata": {},
   "outputs": [
    {
     "name": "stdout",
     "output_type": "stream",
     "text": [
      "Index(['feature1', 'feature2', 'numerical_column', 'group_column',\n",
      "       'new_feature1', 'new_feature2'],\n",
      "      dtype='object')\n"
     ]
    }
   ],
   "source": [
    "print(df.columns)"
   ]
  },
  {
   "cell_type": "code",
   "execution_count": 44,
   "id": "a368e810-78b2-43b5-86c7-73b6aa6cf387",
   "metadata": {},
   "outputs": [],
   "source": [
    "df['numerical_column'] = np.log1p(df['numerical_column'])"
   ]
  },
  {
   "cell_type": "code",
   "execution_count": 46,
   "id": "6678dab6-3f77-4be6-9a8e-3bebb5250939",
   "metadata": {},
   "outputs": [],
   "source": [
    "df['feature1'] = np.log1p(df['feature1'])"
   ]
  },
  {
   "cell_type": "code",
   "execution_count": 50,
   "id": "5680a924-b2c3-4689-b325-1c993e695361",
   "metadata": {},
   "outputs": [
    {
     "data": {
      "text/plain": [
       "[Text(0.5, 1.0, 'numerical_column')]"
      ]
     },
     "execution_count": 50,
     "metadata": {},
     "output_type": "execute_result"
    },
    {
     "data": {
      "image/png": "[encoded data removed]",
      "text/plain": [
       "<Figure size 1200x500 with 2 Axes>"
      ]
     },
     "metadata": {},
     "output_type": "display_data"
    }
   ],
   "source": [
    "fig, ax = plt.subplots(1, 2, figsize=(12, 5))\n",
    "sns.histplot(df['feature1'], ax=ax[0], kde=True).set(title='Before Transformation')\n",
    "sns.histplot(df['numerical_column'], ax=ax[1], kde=True).set(title='numerical_column')"
   ]
  },
  {
   "cell_type": "code",
   "execution_count": null,
   "id": "f9dee36f-7dbe-4879-acb5-b9092b5dcac0",
   "metadata": {},
   "outputs": [],
   "source": []
  },
  {
   "cell_type": "code",
   "execution_count": 53,
   "id": "ed4f5559-8ae7-4420-97c9-151563807e44",
   "metadata": {},
   "outputs": [],
   "source": [
    "# Apply Isolation Forest\n",
    "iso = IsolationForest(contamination=0.05)  \n",
    "outliers = iso.fit_predict(df[['numerical_column', 'numerical_column']])  \n",
    "df = df[df['outliers'] == 1] "
   ]
  },
  {
   "cell_type": "code",
   "execution_count": 56,
   "id": "6625a59c-a61e-4665-9013-2d02461e38c1",
   "metadata": {},
   "outputs": [],
   "source": [
    "# pip install ppscore"
   ]
  },
  {
   "cell_type": "code",
   "execution_count": 57,
   "id": "e2612281-8f57-428e-93ad-2c1a9a6bbe11",
   "metadata": {},
   "outputs": [
    {
     "ename": "ModuleNotFoundError",
     "evalue": "No module named 'ppscore'",
     "output_type": "error",
     "traceback": [
      "\u001b[1;31m---------------------------------------------------------------------------\u001b[0m",
      "\u001b[1;31mModuleNotFoundError\u001b[0m                       Traceback (most recent call last)",
      "Cell \u001b[1;32mIn[57], line 1\u001b[0m\n\u001b[1;32m----> 1\u001b[0m \u001b[38;5;28;01mimport\u001b[39;00m \u001b[38;5;21;01mppscore\u001b[39;00m \u001b[38;5;28;01mas\u001b[39;00m \u001b[38;5;21;01mpps\u001b[39;00m\n",
      "\u001b[1;31mModuleNotFoundError\u001b[0m: No module named 'ppscore'"
     ]
    }
   ],
   "source": [
    "import ppscore as pps"
   ]
  },
  {
   "cell_type": "code",
   "execution_count": 55,
   "id": "7edf0918-ca6f-4530-b54a-fde57ae65d99",
   "metadata": {},
   "outputs": [
    {
     "ename": "NameError",
     "evalue": "name 'pps' is not defined",
     "output_type": "error",
     "traceback": [
      "\u001b[1;31m---------------------------------------------------------------------------\u001b[0m",
      "\u001b[1;31mNameError\u001b[0m                                 Traceback (most recent call last)",
      "Cell \u001b[1;32mIn[55], line 1\u001b[0m\n\u001b[1;32m----> 1\u001b[0m pps_matrix \u001b[38;5;241m=\u001b[39m \u001b[43mpps\u001b[49m\u001b[38;5;241m.\u001b[39mmatrix(df)[[\u001b[38;5;124m'\u001b[39m\u001b[38;5;124mx\u001b[39m\u001b[38;5;124m'\u001b[39m, \u001b[38;5;124m'\u001b[39m\u001b[38;5;124my\u001b[39m\u001b[38;5;124m'\u001b[39m, \u001b[38;5;124m'\u001b[39m\u001b[38;5;124mppscore\u001b[39m\u001b[38;5;124m'\u001b[39m]]\u001b[38;5;241m.\u001b[39mpivot(columns\u001b[38;5;241m=\u001b[39m\u001b[38;5;124m'\u001b[39m\u001b[38;5;124mx\u001b[39m\u001b[38;5;124m'\u001b[39m, index\u001b[38;5;241m=\u001b[39m\u001b[38;5;124m'\u001b[39m\u001b[38;5;124my\u001b[39m\u001b[38;5;124m'\u001b[39m, values\u001b[38;5;241m=\u001b[39m\u001b[38;5;124m'\u001b[39m\u001b[38;5;124mppscore\u001b[39m\u001b[38;5;124m'\u001b[39m)\n\u001b[0;32m      2\u001b[0m plt\u001b[38;5;241m.\u001b[39mfigure(figsize\u001b[38;5;241m=\u001b[39m(\u001b[38;5;241m10\u001b[39m, \u001b[38;5;241m8\u001b[39m))\n\u001b[0;32m      3\u001b[0m sns\u001b[38;5;241m.\u001b[39mheatmap(pps_matrix, cmap\u001b[38;5;241m=\u001b[39m\u001b[38;5;124m\"\u001b[39m\u001b[38;5;124mcoolwarm\u001b[39m\u001b[38;5;124m\"\u001b[39m, annot\u001b[38;5;241m=\u001b[39m\u001b[38;5;28;01mTrue\u001b[39;00m)\u001b[38;5;241m.\u001b[39mset(title\u001b[38;5;241m=\u001b[39m\u001b[38;5;124m\"\u001b[39m\u001b[38;5;124mPredictive Power Score Matrix\u001b[39m\u001b[38;5;124m\"\u001b[39m)\n",
      "\u001b[1;31mNameError\u001b[0m: name 'pps' is not defined"
     ]
    }
   ],
   "source": [
    "pps_matrix = pps.matrix(df)[['x', 'y', 'ppscore']].pivot(columns='x', index='y', values='ppscore')\n",
    "plt.figure(figsize=(10, 8))\n",
    "sns.heatmap(pps_matrix, cmap=\"coolwarm\", annot=True).set(title=\"Predictive Power Score Matrix\")\n"
   ]
  },
  {
   "cell_type": "code",
   "execution_count": null,
   "id": "13c7b188-dcaa-459e-895b-56fc5c01f1ce",
   "metadata": {},
   "outputs": [],
   "source": []
  },
  {
   "cell_type": "code",
   "execution_count": null,
   "id": "cad7d964-875b-406d-839b-4dbbbb77adfa",
   "metadata": {},
   "outputs": [],
   "source": []
  },
  {
   "cell_type": "code",
   "execution_count": null,
   "id": "e9c085c9-2743-4ec1-bbf0-2360f0bdc75f",
   "metadata": {},
   "outputs": [],
   "source": []
  },
  {
   "cell_type": "code",
   "execution_count": null,
   "id": "f1ea1768-b5cd-4a25-800f-b6374aca7cea",
   "metadata": {},
   "outputs": [],
   "source": []
  },
  {
   "cell_type": "code",
   "execution_count": null,
   "id": "fb8e2e94-adaa-49a7-929d-5e5470ed6d04",
   "metadata": {},
   "outputs": [],
   "source": []
  }
 ],
 "metadata": {
  "kernelspec": {
   "display_name": "Python 3 (ipykernel)",
   "language": "python",
   "name": "python3"
  },
  "language_info": {
   "codemirror_mode": {
    "name": "ipython",
    "version": 3
   },
   "file_extension": ".py",
   "mimetype": "text/x-python",
   "name": "python",
   "nbconvert_exporter": "python",
   "pygments_lexer": "ipython3",
   "version": "3.12.5"
  }
 },
 "nbformat": 4,
 "nbformat_minor": 5
}
