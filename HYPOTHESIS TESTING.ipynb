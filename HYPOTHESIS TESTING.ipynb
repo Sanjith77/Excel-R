{
 "cells": [
  {
   "cell_type": "code",
   "execution_count": 1,
   "id": "7821788b-40a1-4ec0-b776-c7d4c175e8d6",
   "metadata": {},
   "outputs": [],
   "source": [
    "import numpy as np\n",
    "import scipy.stats as stats"
   ]
  },
  {
   "cell_type": "code",
   "execution_count": null,
   "id": "68d46021-55c4-404f-8d5e-616bb1b12859",
   "metadata": {},
   "outputs": [],
   "source": []
  },
  {
   "cell_type": "code",
   "execution_count": 2,
   "id": "4fdb6108-8c9b-4ef5-b8fb-301152cfee14",
   "metadata": {},
   "outputs": [],
   "source": [
    "sample_mean = 3050  # Rs. 3050\n",
    "theoretical_mean = 1000 + 5 * 600  # Rs. 4000 based on the model\n",
    "std_dev = 5 * 25  # Rs. 125 \n",
    "n = 25  # Sample size"
   ]
  },
  {
   "cell_type": "markdown",
   "id": "5c69c783-3aa0-48dd-8438-8dd2d60bb18b",
   "metadata": {},
   "source": [
    "# Calculate the test statistic (t)"
   ]
  },
  {
   "cell_type": "code",
   "execution_count": 3,
   "id": "9ff8e793-89bc-4f71-beae-a43305688d6f",
   "metadata": {},
   "outputs": [],
   "source": [
    "t_statistic = (sample_mean - theoretical_mean) / (std_dev / np.sqrt(n))"
   ]
  },
  {
   "cell_type": "markdown",
   "id": "5013b7ea-1156-4343-b984-e85830239255",
   "metadata": {},
   "source": [
    "# test statistic"
   ]
  },
  {
   "cell_type": "code",
   "execution_count": 4,
   "id": "62af4c1c-0029-43e7-814f-e65ef41b2b9a",
   "metadata": {},
   "outputs": [
    {
     "name": "stdout",
     "output_type": "stream",
     "text": [
      "Test Statistic (t): -38.0000\n"
     ]
    }
   ],
   "source": [
    "print(f\"Test Statistic (t): {t_statistic:.4f}\")"
   ]
  },
  {
   "cell_type": "code",
   "execution_count": null,
   "id": "d03587ec-798e-43a7-8672-ed18b4e0af39",
   "metadata": {},
   "outputs": [],
   "source": [
    "# Determine the critical value for a one-tailed test at alpha = 0.05"
   ]
  },
  {
   "cell_type": "code",
   "execution_count": 5,
   "id": "39e79d01-5c42-412c-be1f-af6310314be0",
   "metadata": {},
   "outputs": [],
   "source": [
    "alpha = 0.05\n",
    "critical_value = stats.norm.ppf(1 - alpha)"
   ]
  },
  {
   "cell_type": "markdown",
   "id": "ea1d10d8-200e-48b3-aea9-f9b910fc5503",
   "metadata": {},
   "source": [
    "# Display the critical value"
   ]
  },
  {
   "cell_type": "code",
   "execution_count": null,
   "id": "8c4e4bf6-2efa-4914-817c-890309d69232",
   "metadata": {},
   "outputs": [],
   "source": [
    "print(f\"Critical Value (Z) at alpha = 0.05: {critical_value:.4f}\")"
   ]
  },
  {
   "cell_type": "code",
   "execution_count": null,
   "id": "0ebc9bf8-f8f1-41db-a1df-3f84996632d9",
   "metadata": {},
   "outputs": [],
   "source": []
  },
  {
   "cell_type": "code",
   "execution_count": 6,
   "id": "20df8639-b1f2-45d0-b555-fb2d545093a3",
   "metadata": {},
   "outputs": [
    {
     "name": "stdout",
     "output_type": "stream",
     "text": [
      "Decision: Fail to reject the null hypothesis - No strong evidence that weekly operating costs are higher.\n"
     ]
    }
   ],
   "source": [
    "\n",
    "if t_statistic > critical_value:\n",
    "    print(\"Decision: Reject the null hypothesis - Weekly operating costs are significantly higher than the model suggests.\")\n",
    "else:\n",
    "    print(\"Decision: Fail to reject the null hypothesis - No strong evidence that weekly operating costs are higher.\")\n"
   ]
  },
  {
   "cell_type": "markdown",
   "id": "05ac31ba-97fc-4280-a12b-c1cd0a1d945d",
   "metadata": {},
   "source": [
    "# Conclusion"
   ]
  },
  {
   "cell_type": "code",
   "execution_count": 7,
   "id": "67f7a926-110a-4ae2-acf5-c51df631011d",
   "metadata": {},
   "outputs": [
    {
     "name": "stdout",
     "output_type": "stream",
     "text": [
      "Conclusion: There is insufficient evidence to support the claim that weekly operating costs are higher.\n"
     ]
    }
   ],
   "source": [
    "\n",
    "if t_statistic > critical_value:\n",
    "    print(\"Conclusion: There is strong evidence to support the restaurant owners' claim that the weekly operating costs are higher.\")\n",
    "else:\n",
    "    print(\"Conclusion: There is insufficient evidence to support the claim that weekly operating costs are higher.\")"
   ]
  },
  {
   "cell_type": "code",
   "execution_count": null,
   "id": "b7df7e01-5125-415a-9fbb-446752cb8e09",
   "metadata": {},
   "outputs": [],
   "source": []
  },
  {
   "cell_type": "code",
   "execution_count": null,
   "id": "b3cfcb0a-feef-4734-8707-5818a5e744d4",
   "metadata": {},
   "outputs": [],
   "source": []
  },
  {
   "cell_type": "code",
   "execution_count": null,
   "id": "e80cbba3-2667-47b8-929e-54e7e4b63004",
   "metadata": {},
   "outputs": [],
   "source": []
  },
  {
   "cell_type": "code",
   "execution_count": null,
   "id": "28697744-58a1-4114-b4c7-d075ff2c2b73",
   "metadata": {},
   "outputs": [],
   "source": []
  }
 ],
 "metadata": {
  "kernelspec": {
   "display_name": "Python 3 (ipykernel)",
   "language": "python",
   "name": "python3"
  },
  "language_info": {
   "codemirror_mode": {
    "name": "ipython",
    "version": 3
   },
   "file_extension": ".py",
   "mimetype": "text/x-python",
   "name": "python",
   "nbconvert_exporter": "python",
   "pygments_lexer": "ipython3",
   "version": "3.12.5"
  }
 },
 "nbformat": 4,
 "nbformat_minor": 5
}
