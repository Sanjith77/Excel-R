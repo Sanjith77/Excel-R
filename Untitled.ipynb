{
 "cells": [
  {
   "cell_type": "code",
   "execution_count": 1,
   "id": "9a5b7ee8-300b-4f04-a704-7d2bb4b4e4a3",
   "metadata": {},
   "outputs": [],
   "source": [
    "import numpy as np\n",
    "import pandas as pd"
   ]
  },
  {
   "cell_type": "code",
   "execution_count": null,
   "id": "c2053981-66df-4a30-8bd0-9a444e9bfde7",
   "metadata": {},
   "outputs": [],
   "source": []
  },
  {
   "cell_type": "code",
   "execution_count": null,
   "id": "2fa3eba5-cb7a-4d0d-b94f-bb543f542d7f",
   "metadata": {},
   "outputs": [],
   "source": [
    "# Function to check if a number is prime"
   ]
  },
  {
   "cell_type": "code",
   "execution_count": 3,
   "id": "964fe1c8-2531-4375-abb1-fa2ce97155b4",
   "metadata": {},
   "outputs": [
    {
     "name": "stdin",
     "output_type": "stream",
     "text": [
      "Enter a number:  2\n"
     ]
    },
    {
     "name": "stdout",
     "output_type": "stream",
     "text": [
      "2 is a prime number.\n"
     ]
    }
   ],
   "source": [
    "def is_prime(n):\n",
    "    \"\"\"\n",
    "    This function checks if the given number is prime or not.\n",
    "    \n",
    "    Parameters:\n",
    "    n (int): The number to check.\n",
    "    \n",
    "    Returns:\n",
    "    bool: True if n is prime, False otherwise.\n",
    "    \"\"\"\n",
    "    if n <= 1:\n",
    "        return False\n",
    "    for i in range(2, int(n**0.5) + 1):\n",
    "        if n % i == 0:\n",
    "            return False\n",
    "    return True\n",
    "\n",
    "# Input: The number to check\n",
    "number = int(input(\"Enter a number: \"))\n",
    "\n",
    "# Output: Prime check result\n",
    "if is_prime(number):\n",
    "    print(f\"{number} is a prime number.\")\n",
    "else:\n",
    "    print(f\"{number} is not a prime number.\")\n"
   ]
  },
  {
   "cell_type": "code",
   "execution_count": null,
   "id": "07259fcd-6eb1-4ad8-a606-a11258a56a20",
   "metadata": {},
   "outputs": [],
   "source": []
  },
  {
   "cell_type": "code",
   "execution_count": null,
   "id": "96f234f5-f9d6-4a74-9500-a0a0443a8535",
   "metadata": {},
   "outputs": [],
   "source": [
    "# Function to generate two random numbers and ask for their product"
   ]
  },
  {
   "cell_type": "code",
   "execution_count": 5,
   "id": "db9148d6-780c-4942-9d0e-aaa427dc01b1",
   "metadata": {},
   "outputs": [],
   "source": [
    "import random"
   ]
  },
  {
   "cell_type": "code",
   "execution_count": 7,
   "id": "810de094-343e-4807-87bf-d922b5b78923",
   "metadata": {},
   "outputs": [
    {
     "name": "stdout",
     "output_type": "stream",
     "text": [
      "What is the product of 72 and 84?\n"
     ]
    },
    {
     "name": "stdin",
     "output_type": "stream",
     "text": [
      "Enter your answer:  5400\n"
     ]
    },
    {
     "name": "stdout",
     "output_type": "stream",
     "text": [
      "Incorrect. The correct answer is 6048.\n"
     ]
    }
   ],
   "source": [
    "def product_quiz():\n",
    "    # Generate two random numbers between 1 and 100\n",
    "    num1 = random.randint(1, 100)\n",
    "    num2 = random.randint(1, 100)\n",
    "    \n",
    "    # Ask the user for the product of the two numbers\n",
    "    print(f\"What is the product of {num1} and {num2}?\")\n",
    "    user_answer = int(input(\"Enter your answer: \"))\n",
    "    \n",
    "    # Calculate the correct product\n",
    "    correct_answer = num1 * num2\n",
    "    \n",
    "    # Check if the user's answer is correct\n",
    "    if user_answer == correct_answer:\n",
    "        print(\"Correct! Well done.\")\n",
    "    else:\n",
    "        print(f\"Incorrect. The correct answer is {correct_answer}.\")\n",
    "\n",
    "# Run the quiz\n",
    "product_quiz()"
   ]
  },
  {
   "cell_type": "code",
   "execution_count": null,
   "id": "1408101d-685e-483a-b2c0-5f68b28fbee3",
   "metadata": {},
   "outputs": [],
   "source": []
  },
  {
   "cell_type": "code",
   "execution_count": 8,
   "id": "573c8a7e-fc7b-438a-a8cb-5cfe360f3c78",
   "metadata": {},
   "outputs": [],
   "source": [
    "# Function to print the squares of odd numbers between 100 and 200"
   ]
  },
  {
   "cell_type": "code",
   "execution_count": 9,
   "id": "b9e1b9cb-a7ff-42fc-b8d2-e67682b0b97f",
   "metadata": {},
   "outputs": [
    {
     "name": "stdout",
     "output_type": "stream",
     "text": [
      "The square of 101 is 10201\n",
      "The square of 103 is 10609\n",
      "The square of 105 is 11025\n",
      "The square of 107 is 11449\n",
      "The square of 109 is 11881\n",
      "The square of 111 is 12321\n",
      "The square of 113 is 12769\n",
      "The square of 115 is 13225\n",
      "The square of 117 is 13689\n",
      "The square of 119 is 14161\n",
      "The square of 121 is 14641\n",
      "The square of 123 is 15129\n",
      "The square of 125 is 15625\n",
      "The square of 127 is 16129\n",
      "The square of 129 is 16641\n",
      "The square of 131 is 17161\n",
      "The square of 133 is 17689\n",
      "The square of 135 is 18225\n",
      "The square of 137 is 18769\n",
      "The square of 139 is 19321\n",
      "The square of 141 is 19881\n",
      "The square of 143 is 20449\n",
      "The square of 145 is 21025\n",
      "The square of 147 is 21609\n",
      "The square of 149 is 22201\n",
      "The square of 151 is 22801\n",
      "The square of 153 is 23409\n",
      "The square of 155 is 24025\n",
      "The square of 157 is 24649\n",
      "The square of 159 is 25281\n",
      "The square of 161 is 25921\n",
      "The square of 163 is 26569\n",
      "The square of 165 is 27225\n",
      "The square of 167 is 27889\n",
      "The square of 169 is 28561\n",
      "The square of 171 is 29241\n",
      "The square of 173 is 29929\n",
      "The square of 175 is 30625\n",
      "The square of 177 is 31329\n",
      "The square of 179 is 32041\n",
      "The square of 181 is 32761\n",
      "The square of 183 is 33489\n",
      "The square of 185 is 34225\n",
      "The square of 187 is 34969\n",
      "The square of 189 is 35721\n",
      "The square of 191 is 36481\n",
      "The square of 193 is 37249\n",
      "The square of 195 is 38025\n",
      "The square of 197 is 38809\n",
      "The square of 199 is 39601\n"
     ]
    }
   ],
   "source": [
    "def print_squares_of_odds():\n",
    "    \"\"\"\n",
    "    This function prints the squares of odd numbers between 100 and 200.\n",
    "    Odd numbers are chosen for this task.\n",
    "    \"\"\"\n",
    "    for num in range(100, 201):\n",
    "        if num % 2 != 0:  # Check if the number is odd\n",
    "            print(f\"The square of {num} is {num**2}\")\n",
    "\n",
    "# Run the function to print squares of odd numbers\n",
    "print_squares_of_odds()"
   ]
  },
  {
   "cell_type": "code",
   "execution_count": null,
   "id": "96e7365c-2b68-4a70-ad18-a97b7481ec4d",
   "metadata": {},
   "outputs": [],
   "source": []
  },
  {
   "cell_type": "code",
   "execution_count": 10,
   "id": "333345cb-53f9-4aaa-b07d-7324c19b4cb7",
   "metadata": {},
   "outputs": [],
   "source": [
    "# A program to count the number of words in a given text."
   ]
  },
  {
   "cell_type": "code",
   "execution_count": 11,
   "id": "4c3096e7-3324-4487-8747-db03a8e8b54e",
   "metadata": {},
   "outputs": [
    {
     "name": "stdout",
     "output_type": "stream",
     "text": [
      "'This': 2\n",
      "'is': 1\n",
      "'a': 1\n",
      "'sample': 1\n",
      "'text.': 1\n",
      "'text': 1\n",
      "'will': 1\n",
      "'be': 1\n",
      "'used': 1\n",
      "'to': 1\n",
      "'demonstrate': 1\n",
      "'the': 1\n",
      "'word': 1\n",
      "'counter.': 1\n"
     ]
    }
   ],
   "source": [
    "from collections import Counter\n",
    "\n",
    "# Function to count the words in the input text\n",
    "def word_counter(input_text):\n",
    "    # Split the text into words\n",
    "    words = input_text.split()\n",
    "    \n",
    "    # Use Counter to count the occurrences of each word\n",
    "    word_count = Counter(words)\n",
    "    \n",
    "    # Print the word count\n",
    "    for word, count in word_count.items():\n",
    "        print(f\"'{word}': {count}\")\n",
    "\n",
    "# Example input text\n",
    "input_text = \"This is a sample text. This text will be used to demonstrate the word counter.\"\n",
    "\n",
    "# Run the word counter function\n",
    "word_counter(input_text)"
   ]
  },
  {
   "cell_type": "code",
   "execution_count": null,
   "id": "799d9594-55a0-44c5-bdd7-d892cc0995f9",
   "metadata": {},
   "outputs": [],
   "source": []
  },
  {
   "cell_type": "code",
   "execution_count": null,
   "id": "7cb5c469-8767-4a1c-b283-863280d9a211",
   "metadata": {},
   "outputs": [],
   "source": [
    "# Function to check if a given string is a palindrome"
   ]
  },
  {
   "cell_type": "code",
   "execution_count": 12,
   "id": "8b1e41f8-254a-413c-8768-c3d0c2c3421b",
   "metadata": {},
   "outputs": [
    {
     "name": "stdout",
     "output_type": "stream",
     "text": [
      "True\n"
     ]
    }
   ],
   "source": [
    "def is_palindrome(s):\n",
    "    \"\"\"\n",
    "    This function checks if the input string is a palindrome.\n",
    "    It ignores spaces, punctuation, and capitalization.\n",
    "    \"\"\"\n",
    "    # Remove spaces, punctuation, and convert to lowercase\n",
    "    s = ''.join(char.lower() for char in s if char.isalnum())\n",
    "    \n",
    "    # Check if the cleaned string is the same forward and backward\n",
    "    return s == s[::-1]\n",
    "\n",
    "# Example usage\n",
    "input_text = \"racecar\"\n",
    "print(is_palindrome(input_text))  # Expected output: True"
   ]
  },
  {
   "cell_type": "code",
   "execution_count": null,
   "id": "cacc3f76-9ab5-45a8-a47a-1db159ea1e3f",
   "metadata": {},
   "outputs": [],
   "source": []
  },
  {
   "cell_type": "code",
   "execution_count": null,
   "id": "ebb4abe9-661d-4cae-9504-bcfaffa4fb4c",
   "metadata": {},
   "outputs": [],
   "source": []
  },
  {
   "cell_type": "code",
   "execution_count": null,
   "id": "1083677e-b9d5-4a76-b2e3-ff7f58b1c068",
   "metadata": {},
   "outputs": [],
   "source": []
  },
  {
   "cell_type": "code",
   "execution_count": null,
   "id": "6411fa9c-2ae3-491f-bdb7-c121572d404f",
   "metadata": {},
   "outputs": [],
   "source": []
  }
 ],
 "metadata": {
  "kernelspec": {
   "display_name": "Python 3 (ipykernel)",
   "language": "python",
   "name": "python3"
  },
  "language_info": {
   "codemirror_mode": {
    "name": "ipython",
    "version": 3
   },
   "file_extension": ".py",
   "mimetype": "text/x-python",
   "name": "python",
   "nbconvert_exporter": "python",
   "pygments_lexer": "ipython3",
   "version": "3.12.5"
  }
 },
 "nbformat": 4,
 "nbformat_minor": 5
}
