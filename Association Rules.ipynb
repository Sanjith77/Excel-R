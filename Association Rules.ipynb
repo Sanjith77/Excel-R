{
 "cells": [
  {
   "cell_type": "code",
   "execution_count": null,
   "id": "27f02f50-6e9f-4a6d-9b1d-1ce5b5b75e0f",
   "metadata": {},
   "outputs": [],
   "source": [
    "# Setup and Data Preprocessing"
   ]
  },
  {
   "cell_type": "code",
   "execution_count": 1,
   "id": "0c4aa05c-1ec1-4911-b718-c1500711b05e",
   "metadata": {},
   "outputs": [],
   "source": [
    "import pandas as pd\n",
    "from mlxtend.frequent_patterns import apriori, association_rules"
   ]
  },
  {
   "cell_type": "code",
   "execution_count": 2,
   "id": "07243530-dcbb-4415-ab7a-28a0283607be",
   "metadata": {},
   "outputs": [],
   "source": [
    "df = pd.read_excel(\"Online retail.xlsx\")\n",
    "data = pd.read_excel(\"Online retail.xlsx\")"
   ]
  },
  {
   "cell_type": "code",
   "execution_count": 3,
   "id": "4bcfe900-f30c-4058-a278-47fb7531b186",
   "metadata": {},
   "outputs": [
    {
     "data": {
      "text/html": [
       "<div>\n",
       "<style scoped>\n",
       "    .dataframe tbody tr th:only-of-type {\n",
       "        vertical-align: middle;\n",
       "    }\n",
       "\n",
       "    .dataframe tbody tr th {\n",
       "        vertical-align: top;\n",
       "    }\n",
       "\n",
       "    .dataframe thead th {\n",
       "        text-align: right;\n",
       "    }\n",
       "</style>\n",
       "<table border=\"1\" class=\"dataframe\">\n",
       "  <thead>\n",
       "    <tr style=\"text-align: right;\">\n",
       "      <th></th>\n",
       "      <th>shrimp,almonds,avocado,vegetables mix,green grapes,whole weat flour,yams,cottage cheese,energy drink,tomato juice,low fat yogurt,green tea,honey,salad,mineral water,salmon,antioxydant juice,frozen smoothie,spinach,olive oil</th>\n",
       "    </tr>\n",
       "  </thead>\n",
       "  <tbody>\n",
       "    <tr>\n",
       "      <th>0</th>\n",
       "      <td>burgers,meatballs,eggs</td>\n",
       "    </tr>\n",
       "    <tr>\n",
       "      <th>1</th>\n",
       "      <td>chutney</td>\n",
       "    </tr>\n",
       "    <tr>\n",
       "      <th>2</th>\n",
       "      <td>turkey,avocado</td>\n",
       "    </tr>\n",
       "    <tr>\n",
       "      <th>3</th>\n",
       "      <td>mineral water,milk,energy bar,whole wheat rice...</td>\n",
       "    </tr>\n",
       "    <tr>\n",
       "      <th>4</th>\n",
       "      <td>low fat yogurt</td>\n",
       "    </tr>\n",
       "  </tbody>\n",
       "</table>\n",
       "</div>"
      ],
      "text/plain": [
       "  shrimp,almonds,avocado,vegetables mix,green grapes,whole weat flour,yams,cottage cheese,energy drink,tomato juice,low fat yogurt,green tea,honey,salad,mineral water,salmon,antioxydant juice,frozen smoothie,spinach,olive oil\n",
       "0                             burgers,meatballs,eggs                                                                                                                                                                             \n",
       "1                                            chutney                                                                                                                                                                             \n",
       "2                                     turkey,avocado                                                                                                                                                                             \n",
       "3  mineral water,milk,energy bar,whole wheat rice...                                                                                                                                                                             \n",
       "4                                     low fat yogurt                                                                                                                                                                             "
      ]
     },
     "execution_count": 3,
     "metadata": {},
     "output_type": "execute_result"
    }
   ],
   "source": [
    "data.head()"
   ]
  },
  {
   "cell_type": "code",
   "execution_count": null,
   "id": "fe069107-501e-4eac-aa91-49037731f5a3",
   "metadata": {},
   "outputs": [],
   "source": []
  },
  {
   "cell_type": "code",
   "execution_count": null,
   "id": "26aeb696-b8da-4caa-9a59-fc38ef2b8d0a",
   "metadata": {},
   "outputs": [],
   "source": []
  },
  {
   "cell_type": "code",
   "execution_count": null,
   "id": "a11cc560-083d-46af-894b-b48b1c9a0e86",
   "metadata": {},
   "outputs": [],
   "source": [
    "# Data Preprocessing"
   ]
  },
  {
   "cell_type": "code",
   "execution_count": 4,
   "id": "0b2d977c-892c-4c47-9f3b-ae61df727649",
   "metadata": {},
   "outputs": [],
   "source": [
    "data = data.dropna()"
   ]
  },
  {
   "cell_type": "code",
   "execution_count": 5,
   "id": "f68f4248-6ced-42d2-a6d1-cd33d918cecd",
   "metadata": {},
   "outputs": [],
   "source": [
    "data = data.drop_duplicates()"
   ]
  },
  {
   "cell_type": "code",
   "execution_count": 7,
   "id": "c3fb4833-525a-4db2-9267-f613e243f36d",
   "metadata": {},
   "outputs": [
    {
     "name": "stdout",
     "output_type": "stream",
     "text": [
      "Index(['shrimp,almonds,avocado,vegetables mix,green grapes,whole weat flour,yams,cottage cheese,energy drink,tomato juice,low fat yogurt,green tea,honey,salad,mineral water,salmon,antioxydant juice,frozen smoothie,spinach,olive oil'], dtype='object')\n"
     ]
    }
   ],
   "source": [
    "print(data.columns) "
   ]
  },
  {
   "cell_type": "code",
   "execution_count": 15,
   "id": "2f84b3cc-ba67-428c-bfa7-39871e4a49ee",
   "metadata": {},
   "outputs": [],
   "source": [
    "df.columns = df.columns.str.strip()  # Removes leading/trailing spaces from column names"
   ]
  },
  {
   "cell_type": "code",
   "execution_count": 16,
   "id": "a8560d3a-2a40-4e15-8581-19bff9eab06b",
   "metadata": {},
   "outputs": [],
   "source": [
    "df.rename(columns={'Customer_ID': 'CustomerID', 'Invoice_No': 'InvoiceNo'}, inplace=True)"
   ]
  },
  {
   "cell_type": "code",
   "execution_count": 17,
   "id": "c279f71f-07e0-4247-ae6f-8fc8ab8a62f0",
   "metadata": {},
   "outputs": [],
   "source": [
    "df.rename(columns={'Possible_Name1': 'CustomerID', 'Possible_Name2': 'InvoiceNo'}, inplace=True)"
   ]
  },
  {
   "cell_type": "code",
   "execution_count": 18,
   "id": "a4dafc21-1d8c-4352-a3ab-d7dd0912fb7c",
   "metadata": {},
   "outputs": [
    {
     "name": "stdout",
     "output_type": "stream",
     "text": [
      "  shrimp,almonds,avocado,vegetables mix,green grapes,whole weat flour,yams,cottage cheese,energy drink,tomato juice,low fat yogurt,green tea,honey,salad,mineral water,salmon,antioxydant juice,frozen smoothie,spinach,olive oil\n",
      "0                             burgers,meatballs,eggs                                                                                                                                                                             \n",
      "1                                            chutney                                                                                                                                                                             \n",
      "2                                     turkey,avocado                                                                                                                                                                             \n",
      "3  mineral water,milk,energy bar,whole wheat rice...                                                                                                                                                                             \n",
      "4                                     low fat yogurt                                                                                                                                                                             \n",
      "Index(['shrimp,almonds,avocado,vegetables mix,green grapes,whole weat flour,yams,cottage cheese,energy drink,tomato juice,low fat yogurt,green tea,honey,salad,mineral water,salmon,antioxydant juice,frozen smoothie,spinach,olive oil'], dtype='object')\n"
     ]
    }
   ],
   "source": [
    "print(df.head())  # Check the first few rows of data\n",
    "print(df.columns)  # Verify all column names"
   ]
  },
  {
   "cell_type": "code",
   "execution_count": 19,
   "id": "bbe3428f-93a8-43f9-aa75-4ec334a24a9b",
   "metadata": {},
   "outputs": [],
   "source": [
    "df.drop_duplicates(inplace=True)"
   ]
  },
  {
   "cell_type": "code",
   "execution_count": 20,
   "id": "db99a8ff-9aec-47fc-9a8b-24a9fa7b1ab8",
   "metadata": {},
   "outputs": [
    {
     "name": "stdout",
     "output_type": "stream",
     "text": [
      "  shrimp,almonds,avocado,vegetables mix,green grapes,whole weat flour,yams,cottage cheese,energy drink,tomato juice,low fat yogurt,green tea,honey,salad,mineral water,salmon,antioxydant juice,frozen smoothie,spinach,olive oil\n",
      "0                             burgers,meatballs,eggs                                                                                                                                                                             \n",
      "1                                            chutney                                                                                                                                                                             \n",
      "2                                     turkey,avocado                                                                                                                                                                             \n",
      "3  mineral water,milk,energy bar,whole wheat rice...                                                                                                                                                                             \n",
      "4                                     low fat yogurt                                                                                                                                                                             \n"
     ]
    }
   ],
   "source": [
    "print(df.head())"
   ]
  },
  {
   "cell_type": "code",
   "execution_count": null,
   "id": "67821643-2ddb-4a45-a608-d9374f856e9e",
   "metadata": {},
   "outputs": [],
   "source": []
  },
  {
   "cell_type": "code",
   "execution_count": 21,
   "id": "83c17f48-505e-42c5-acee-3c5cc4bf2a47",
   "metadata": {},
   "outputs": [
    {
     "name": "stdout",
     "output_type": "stream",
     "text": [
      "False\n",
      "False\n",
      "False\n"
     ]
    }
   ],
   "source": [
    "print('InvoiceNo' in df.columns)  # This should return True if the column exists\n",
    "print('Description' in df.columns)  # This should also return True\n",
    "print('Quantity' in df.columns)  # This should also return True"
   ]
  },
  {
   "cell_type": "code",
   "execution_count": 25,
   "id": "befff6f9-de5a-4856-aaff-d54bea5dd053",
   "metadata": {},
   "outputs": [
    {
     "name": "stdout",
     "output_type": "stream",
     "text": [
      "Index(['shrimp,almonds,avocado,vegetables mix,green grapes,whole weat flour,yams,cottage cheese,energy drink,tomato juice,low fat yogurt,green tea,honey,salad,mineral water,salmon,antioxydant juice,frozen smoothie,spinach,olive oil'], dtype='object')\n"
     ]
    }
   ],
   "source": [
    "print(df.columns)"
   ]
  },
  {
   "cell_type": "code",
   "execution_count": null,
   "id": "6e0823c9-c8ae-4394-91fd-249c685a2fef",
   "metadata": {},
   "outputs": [],
   "source": []
  },
  {
   "cell_type": "code",
   "execution_count": null,
   "id": "f085337b-9405-4624-818d-213e8dc2f3c5",
   "metadata": {},
   "outputs": [],
   "source": [
    "#  Apply Apriori Algorithm"
   ]
  },
  {
   "cell_type": "code",
   "execution_count": 35,
   "id": "0b6b1e56-29bd-41fa-8817-bb29c334c112",
   "metadata": {},
   "outputs": [],
   "source": [
    "import pandas as pd\n",
    "from mlxtend.preprocessing import TransactionEncoder\n",
    "from mlxtend.frequent_patterns import apriori, association_rules"
   ]
  },
  {
   "cell_type": "code",
   "execution_count": 36,
   "id": "18b7c03c-6d20-4a24-896e-c3ea94b9be87",
   "metadata": {},
   "outputs": [],
   "source": [
    "# Sample data in list of lists format\n",
    "transactions = [\n",
    "    ['burgers', 'meatballs', 'eggs'],\n",
    "    ['eggs', 'milk'],\n",
    "    ['meatballs', 'milk'],\n",
    "    # Add more transactions as needed\n",
    "]"
   ]
  },
  {
   "cell_type": "code",
   "execution_count": 37,
   "id": "55241f31-970a-4dd4-8d9c-9f4a78604fab",
   "metadata": {},
   "outputs": [],
   "source": [
    "# Step 1: Use TransactionEncoder to create a one-hot encoded DataFrame\n",
    "te = TransactionEncoder()\n",
    "data_transformed = te.fit(transactions).transform(transactions)\n",
    "data = pd.DataFrame(data_transformed, columns=te.columns_)"
   ]
  },
  {
   "cell_type": "code",
   "execution_count": 38,
   "id": "0fb52805-78e3-43f9-b2fe-08460833d393",
   "metadata": {},
   "outputs": [],
   "source": [
    "min_support = 0.05\n",
    "frequent_itemsets = apriori(data, min_support=min_support, use_colnames=True)"
   ]
  },
  {
   "cell_type": "code",
   "execution_count": 46,
   "id": "6bb4c698-9c3b-49c1-8d5f-667d0b6360c3",
   "metadata": {},
   "outputs": [
    {
     "name": "stdout",
     "output_type": "stream",
     "text": [
      "    support                    itemsets\n",
      "0  0.333333                   (burgers)\n",
      "1  0.666667                      (eggs)\n",
      "2  0.666667                 (meatballs)\n",
      "3  0.666667                      (milk)\n",
      "4  0.333333             (eggs, burgers)\n",
      "5  0.333333        (burgers, meatballs)\n",
      "6  0.333333           (eggs, meatballs)\n",
      "7  0.333333                (milk, eggs)\n",
      "8  0.333333           (milk, meatballs)\n",
      "9  0.333333  (eggs, burgers, meatballs)\n",
      "(10, 2)\n"
     ]
    }
   ],
   "source": [
    "print(frequent_itemsets)\n",
    "print(frequent_itemsets.shape)"
   ]
  },
  {
   "cell_type": "code",
   "execution_count": 50,
   "id": "ee321073-e441-4d67-936f-99883716748f",
   "metadata": {},
   "outputs": [
    {
     "data": {
      "text/html": [
       "<div>\n",
       "<style scoped>\n",
       "    .dataframe tbody tr th:only-of-type {\n",
       "        vertical-align: middle;\n",
       "    }\n",
       "\n",
       "    .dataframe tbody tr th {\n",
       "        vertical-align: top;\n",
       "    }\n",
       "\n",
       "    .dataframe thead th {\n",
       "        text-align: right;\n",
       "    }\n",
       "</style>\n",
       "<table border=\"1\" class=\"dataframe\">\n",
       "  <thead>\n",
       "    <tr style=\"text-align: right;\">\n",
       "      <th></th>\n",
       "      <th>support</th>\n",
       "      <th>itemsets</th>\n",
       "    </tr>\n",
       "  </thead>\n",
       "  <tbody>\n",
       "    <tr>\n",
       "      <th>0</th>\n",
       "      <td>0.333333</td>\n",
       "      <td>(burgers)</td>\n",
       "    </tr>\n",
       "    <tr>\n",
       "      <th>1</th>\n",
       "      <td>0.666667</td>\n",
       "      <td>(eggs)</td>\n",
       "    </tr>\n",
       "    <tr>\n",
       "      <th>2</th>\n",
       "      <td>0.666667</td>\n",
       "      <td>(meatballs)</td>\n",
       "    </tr>\n",
       "    <tr>\n",
       "      <th>3</th>\n",
       "      <td>0.666667</td>\n",
       "      <td>(milk)</td>\n",
       "    </tr>\n",
       "    <tr>\n",
       "      <th>4</th>\n",
       "      <td>0.333333</td>\n",
       "      <td>(eggs, burgers)</td>\n",
       "    </tr>\n",
       "  </tbody>\n",
       "</table>\n",
       "</div>"
      ],
      "text/plain": [
       "    support         itemsets\n",
       "0  0.333333        (burgers)\n",
       "1  0.666667           (eggs)\n",
       "2  0.666667      (meatballs)\n",
       "3  0.666667           (milk)\n",
       "4  0.333333  (eggs, burgers)"
      ]
     },
     "execution_count": 50,
     "metadata": {},
     "output_type": "execute_result"
    }
   ],
   "source": [
    "frequent_itemsets.head()"
   ]
  },
  {
   "cell_type": "code",
   "execution_count": null,
   "id": "d0816b63-6a3b-408b-994b-66281701ec54",
   "metadata": {},
   "outputs": [],
   "source": []
  },
  {
   "cell_type": "code",
   "execution_count": null,
   "id": "39744f7a-b017-44f1-a703-db72038efb4a",
   "metadata": {},
   "outputs": [],
   "source": [
    "# Generate Association Rules"
   ]
  },
  {
   "cell_type": "code",
   "execution_count": 52,
   "id": "42954db9-e118-4c2a-904f-2d8733403a57",
   "metadata": {},
   "outputs": [
    {
     "name": "stdout",
     "output_type": "stream",
     "text": [
      "    support                    itemsets\n",
      "0  0.333333                   (burgers)\n",
      "1  0.666667                      (eggs)\n",
      "2  0.666667                 (meatballs)\n",
      "3  0.666667                      (milk)\n",
      "4  0.333333             (eggs, burgers)\n",
      "5  0.333333        (burgers, meatballs)\n",
      "6  0.333333           (eggs, meatballs)\n",
      "7  0.333333                (milk, eggs)\n",
      "8  0.333333           (milk, meatballs)\n",
      "9  0.333333  (eggs, burgers, meatballs)\n"
     ]
    }
   ],
   "source": [
    "print(frequent_itemsets)"
   ]
  },
  {
   "cell_type": "code",
   "execution_count": 53,
   "id": "283fd24d-6980-4029-a452-e6cc5e76d848",
   "metadata": {},
   "outputs": [],
   "source": [
    "min_support = 0.01  # or lower as needed\n",
    "frequent_itemsets = apriori(data, min_support=min_support, use_colnames=True)"
   ]
  },
  {
   "cell_type": "code",
   "execution_count": 59,
   "id": "62963f7c-d261-405e-8e43-1d791d02827d",
   "metadata": {},
   "outputs": [
    {
     "name": "stdout",
     "output_type": "stream",
     "text": [
      "Frequent itemsets generated successfully.\n"
     ]
    }
   ],
   "source": [
    "from mlxtend.frequent_patterns import apriori, association_rules\n",
    "\n",
    "# Apply the Apriori algorithm\n",
    "min_support = 0.05  # Set a minimum support threshold\n",
    "frequent_itemsets = apriori(data, min_support=min_support, use_colnames=True)\n",
    "\n",
    "# Check if frequent_itemsets is empty\n",
    "if not frequent_itemsets.empty:\n",
    "    print(\"Frequent itemsets generated successfully.\")\n",
    "else:\n",
    "    print(\"No frequent itemsets found.\")"
   ]
  },
  {
   "cell_type": "code",
   "execution_count": 63,
   "id": "1733ab9f-d4f5-42da-8fde-c4b3beac9772",
   "metadata": {},
   "outputs": [
    {
     "name": "stdout",
     "output_type": "stream",
     "text": [
      "0.23.2\n"
     ]
    }
   ],
   "source": [
    "import mlxtend\n",
    "print(mlxtend.__version__)"
   ]
  },
  {
   "cell_type": "code",
   "execution_count": 66,
   "id": "785845bb-dfbe-4909-bb0f-1abbb3aff6bc",
   "metadata": {},
   "outputs": [],
   "source": [
    "rules = association_rules(frequent_itemsets, metric=\"confidence\", min_threshold=min_confidence, num_itemsets=None)"
   ]
  },
  {
   "cell_type": "code",
   "execution_count": 67,
   "id": "da98d596-893a-4ce7-aaa7-48e831d2e545",
   "metadata": {},
   "outputs": [],
   "source": [
    "min_lift = 1.2  # Set minimum lift threshold\n",
    "rules = rules[rules['lift'] >= min_lift]"
   ]
  },
  {
   "cell_type": "code",
   "execution_count": 68,
   "id": "524cc142-35da-49a3-9977-f56f3885829c",
   "metadata": {},
   "outputs": [
    {
     "data": {
      "text/html": [
       "<div>\n",
       "<style scoped>\n",
       "    .dataframe tbody tr th:only-of-type {\n",
       "        vertical-align: middle;\n",
       "    }\n",
       "\n",
       "    .dataframe tbody tr th {\n",
       "        vertical-align: top;\n",
       "    }\n",
       "\n",
       "    .dataframe thead th {\n",
       "        text-align: right;\n",
       "    }\n",
       "</style>\n",
       "<table border=\"1\" class=\"dataframe\">\n",
       "  <thead>\n",
       "    <tr style=\"text-align: right;\">\n",
       "      <th></th>\n",
       "      <th>antecedents</th>\n",
       "      <th>consequents</th>\n",
       "      <th>antecedent support</th>\n",
       "      <th>consequent support</th>\n",
       "      <th>support</th>\n",
       "      <th>confidence</th>\n",
       "      <th>lift</th>\n",
       "      <th>representativity</th>\n",
       "      <th>leverage</th>\n",
       "      <th>conviction</th>\n",
       "      <th>zhangs_metric</th>\n",
       "      <th>jaccard</th>\n",
       "      <th>certainty</th>\n",
       "      <th>kulczynski</th>\n",
       "    </tr>\n",
       "  </thead>\n",
       "  <tbody>\n",
       "    <tr>\n",
       "      <th>0</th>\n",
       "      <td>(eggs)</td>\n",
       "      <td>(burgers)</td>\n",
       "      <td>0.666667</td>\n",
       "      <td>0.333333</td>\n",
       "      <td>0.333333</td>\n",
       "      <td>0.5</td>\n",
       "      <td>1.5</td>\n",
       "      <td>1.0</td>\n",
       "      <td>0.111111</td>\n",
       "      <td>1.333333</td>\n",
       "      <td>1.0</td>\n",
       "      <td>0.5</td>\n",
       "      <td>0.25</td>\n",
       "      <td>0.75</td>\n",
       "    </tr>\n",
       "    <tr>\n",
       "      <th>1</th>\n",
       "      <td>(burgers)</td>\n",
       "      <td>(eggs)</td>\n",
       "      <td>0.333333</td>\n",
       "      <td>0.666667</td>\n",
       "      <td>0.333333</td>\n",
       "      <td>1.0</td>\n",
       "      <td>1.5</td>\n",
       "      <td>1.0</td>\n",
       "      <td>0.111111</td>\n",
       "      <td>inf</td>\n",
       "      <td>0.5</td>\n",
       "      <td>0.5</td>\n",
       "      <td>1.00</td>\n",
       "      <td>0.75</td>\n",
       "    </tr>\n",
       "    <tr>\n",
       "      <th>2</th>\n",
       "      <td>(burgers)</td>\n",
       "      <td>(meatballs)</td>\n",
       "      <td>0.333333</td>\n",
       "      <td>0.666667</td>\n",
       "      <td>0.333333</td>\n",
       "      <td>1.0</td>\n",
       "      <td>1.5</td>\n",
       "      <td>1.0</td>\n",
       "      <td>0.111111</td>\n",
       "      <td>inf</td>\n",
       "      <td>0.5</td>\n",
       "      <td>0.5</td>\n",
       "      <td>1.00</td>\n",
       "      <td>0.75</td>\n",
       "    </tr>\n",
       "    <tr>\n",
       "      <th>3</th>\n",
       "      <td>(meatballs)</td>\n",
       "      <td>(burgers)</td>\n",
       "      <td>0.666667</td>\n",
       "      <td>0.333333</td>\n",
       "      <td>0.333333</td>\n",
       "      <td>0.5</td>\n",
       "      <td>1.5</td>\n",
       "      <td>1.0</td>\n",
       "      <td>0.111111</td>\n",
       "      <td>1.333333</td>\n",
       "      <td>1.0</td>\n",
       "      <td>0.5</td>\n",
       "      <td>0.25</td>\n",
       "      <td>0.75</td>\n",
       "    </tr>\n",
       "    <tr>\n",
       "      <th>10</th>\n",
       "      <td>(eggs, burgers)</td>\n",
       "      <td>(meatballs)</td>\n",
       "      <td>0.333333</td>\n",
       "      <td>0.666667</td>\n",
       "      <td>0.333333</td>\n",
       "      <td>1.0</td>\n",
       "      <td>1.5</td>\n",
       "      <td>1.0</td>\n",
       "      <td>0.111111</td>\n",
       "      <td>inf</td>\n",
       "      <td>0.5</td>\n",
       "      <td>0.5</td>\n",
       "      <td>1.00</td>\n",
       "      <td>0.75</td>\n",
       "    </tr>\n",
       "  </tbody>\n",
       "</table>\n",
       "</div>"
      ],
      "text/plain": [
       "        antecedents  consequents  antecedent support  consequent support  \\\n",
       "0            (eggs)    (burgers)            0.666667            0.333333   \n",
       "1         (burgers)       (eggs)            0.333333            0.666667   \n",
       "2         (burgers)  (meatballs)            0.333333            0.666667   \n",
       "3       (meatballs)    (burgers)            0.666667            0.333333   \n",
       "10  (eggs, burgers)  (meatballs)            0.333333            0.666667   \n",
       "\n",
       "     support  confidence  lift  representativity  leverage  conviction  \\\n",
       "0   0.333333         0.5   1.5               1.0  0.111111    1.333333   \n",
       "1   0.333333         1.0   1.5               1.0  0.111111         inf   \n",
       "2   0.333333         1.0   1.5               1.0  0.111111         inf   \n",
       "3   0.333333         0.5   1.5               1.0  0.111111    1.333333   \n",
       "10  0.333333         1.0   1.5               1.0  0.111111         inf   \n",
       "\n",
       "    zhangs_metric  jaccard  certainty  kulczynski  \n",
       "0             1.0      0.5       0.25        0.75  \n",
       "1             0.5      0.5       1.00        0.75  \n",
       "2             0.5      0.5       1.00        0.75  \n",
       "3             1.0      0.5       0.25        0.75  \n",
       "10            0.5      0.5       1.00        0.75  "
      ]
     },
     "execution_count": 68,
     "metadata": {},
     "output_type": "execute_result"
    }
   ],
   "source": [
    "rules.head()"
   ]
  },
  {
   "cell_type": "code",
   "execution_count": null,
   "id": "ef0416f4-a1e5-4a4d-be48-248f90ef08ee",
   "metadata": {},
   "outputs": [],
   "source": []
  },
  {
   "cell_type": "code",
   "execution_count": null,
   "id": "3346cde6-0103-43eb-bfbb-c6b0f1a5530d",
   "metadata": {},
   "outputs": [],
   "source": []
  },
  {
   "cell_type": "code",
   "execution_count": null,
   "id": "ebe7d836-2f69-4541-88d3-7b1dc7943344",
   "metadata": {},
   "outputs": [],
   "source": [
    "# Analysis and Interpretation"
   ]
  },
  {
   "cell_type": "code",
   "execution_count": 69,
   "id": "88aae3ae-94ce-435f-aa66-24d8d79c67ba",
   "metadata": {},
   "outputs": [
    {
     "data": {
      "text/html": [
       "<div>\n",
       "<style scoped>\n",
       "    .dataframe tbody tr th:only-of-type {\n",
       "        vertical-align: middle;\n",
       "    }\n",
       "\n",
       "    .dataframe tbody tr th {\n",
       "        vertical-align: top;\n",
       "    }\n",
       "\n",
       "    .dataframe thead th {\n",
       "        text-align: right;\n",
       "    }\n",
       "</style>\n",
       "<table border=\"1\" class=\"dataframe\">\n",
       "  <thead>\n",
       "    <tr style=\"text-align: right;\">\n",
       "      <th></th>\n",
       "      <th>antecedents</th>\n",
       "      <th>consequents</th>\n",
       "      <th>antecedent support</th>\n",
       "      <th>consequent support</th>\n",
       "      <th>support</th>\n",
       "      <th>confidence</th>\n",
       "      <th>lift</th>\n",
       "      <th>representativity</th>\n",
       "      <th>leverage</th>\n",
       "      <th>conviction</th>\n",
       "      <th>zhangs_metric</th>\n",
       "      <th>jaccard</th>\n",
       "      <th>certainty</th>\n",
       "      <th>kulczynski</th>\n",
       "    </tr>\n",
       "  </thead>\n",
       "  <tbody>\n",
       "    <tr>\n",
       "      <th>1</th>\n",
       "      <td>(burgers)</td>\n",
       "      <td>(eggs)</td>\n",
       "      <td>0.333333</td>\n",
       "      <td>0.666667</td>\n",
       "      <td>0.333333</td>\n",
       "      <td>1.0</td>\n",
       "      <td>1.5</td>\n",
       "      <td>1.0</td>\n",
       "      <td>0.111111</td>\n",
       "      <td>inf</td>\n",
       "      <td>0.5</td>\n",
       "      <td>0.5</td>\n",
       "      <td>1.00</td>\n",
       "      <td>0.75</td>\n",
       "    </tr>\n",
       "    <tr>\n",
       "      <th>2</th>\n",
       "      <td>(burgers)</td>\n",
       "      <td>(meatballs)</td>\n",
       "      <td>0.333333</td>\n",
       "      <td>0.666667</td>\n",
       "      <td>0.333333</td>\n",
       "      <td>1.0</td>\n",
       "      <td>1.5</td>\n",
       "      <td>1.0</td>\n",
       "      <td>0.111111</td>\n",
       "      <td>inf</td>\n",
       "      <td>0.5</td>\n",
       "      <td>0.5</td>\n",
       "      <td>1.00</td>\n",
       "      <td>0.75</td>\n",
       "    </tr>\n",
       "    <tr>\n",
       "      <th>14</th>\n",
       "      <td>(burgers)</td>\n",
       "      <td>(eggs, meatballs)</td>\n",
       "      <td>0.333333</td>\n",
       "      <td>0.333333</td>\n",
       "      <td>0.333333</td>\n",
       "      <td>1.0</td>\n",
       "      <td>3.0</td>\n",
       "      <td>1.0</td>\n",
       "      <td>0.222222</td>\n",
       "      <td>inf</td>\n",
       "      <td>1.0</td>\n",
       "      <td>1.0</td>\n",
       "      <td>1.00</td>\n",
       "      <td>1.00</td>\n",
       "    </tr>\n",
       "    <tr>\n",
       "      <th>10</th>\n",
       "      <td>(eggs, burgers)</td>\n",
       "      <td>(meatballs)</td>\n",
       "      <td>0.333333</td>\n",
       "      <td>0.666667</td>\n",
       "      <td>0.333333</td>\n",
       "      <td>1.0</td>\n",
       "      <td>1.5</td>\n",
       "      <td>1.0</td>\n",
       "      <td>0.111111</td>\n",
       "      <td>inf</td>\n",
       "      <td>0.5</td>\n",
       "      <td>0.5</td>\n",
       "      <td>1.00</td>\n",
       "      <td>0.75</td>\n",
       "    </tr>\n",
       "    <tr>\n",
       "      <th>11</th>\n",
       "      <td>(eggs, meatballs)</td>\n",
       "      <td>(burgers)</td>\n",
       "      <td>0.333333</td>\n",
       "      <td>0.333333</td>\n",
       "      <td>0.333333</td>\n",
       "      <td>1.0</td>\n",
       "      <td>3.0</td>\n",
       "      <td>1.0</td>\n",
       "      <td>0.222222</td>\n",
       "      <td>inf</td>\n",
       "      <td>1.0</td>\n",
       "      <td>1.0</td>\n",
       "      <td>1.00</td>\n",
       "      <td>1.00</td>\n",
       "    </tr>\n",
       "    <tr>\n",
       "      <th>12</th>\n",
       "      <td>(burgers, meatballs)</td>\n",
       "      <td>(eggs)</td>\n",
       "      <td>0.333333</td>\n",
       "      <td>0.666667</td>\n",
       "      <td>0.333333</td>\n",
       "      <td>1.0</td>\n",
       "      <td>1.5</td>\n",
       "      <td>1.0</td>\n",
       "      <td>0.111111</td>\n",
       "      <td>inf</td>\n",
       "      <td>0.5</td>\n",
       "      <td>0.5</td>\n",
       "      <td>1.00</td>\n",
       "      <td>0.75</td>\n",
       "    </tr>\n",
       "    <tr>\n",
       "      <th>0</th>\n",
       "      <td>(eggs)</td>\n",
       "      <td>(burgers)</td>\n",
       "      <td>0.666667</td>\n",
       "      <td>0.333333</td>\n",
       "      <td>0.333333</td>\n",
       "      <td>0.5</td>\n",
       "      <td>1.5</td>\n",
       "      <td>1.0</td>\n",
       "      <td>0.111111</td>\n",
       "      <td>1.333333</td>\n",
       "      <td>1.0</td>\n",
       "      <td>0.5</td>\n",
       "      <td>0.25</td>\n",
       "      <td>0.75</td>\n",
       "    </tr>\n",
       "    <tr>\n",
       "      <th>3</th>\n",
       "      <td>(meatballs)</td>\n",
       "      <td>(burgers)</td>\n",
       "      <td>0.666667</td>\n",
       "      <td>0.333333</td>\n",
       "      <td>0.333333</td>\n",
       "      <td>0.5</td>\n",
       "      <td>1.5</td>\n",
       "      <td>1.0</td>\n",
       "      <td>0.111111</td>\n",
       "      <td>1.333333</td>\n",
       "      <td>1.0</td>\n",
       "      <td>0.5</td>\n",
       "      <td>0.25</td>\n",
       "      <td>0.75</td>\n",
       "    </tr>\n",
       "    <tr>\n",
       "      <th>13</th>\n",
       "      <td>(eggs)</td>\n",
       "      <td>(burgers, meatballs)</td>\n",
       "      <td>0.666667</td>\n",
       "      <td>0.333333</td>\n",
       "      <td>0.333333</td>\n",
       "      <td>0.5</td>\n",
       "      <td>1.5</td>\n",
       "      <td>1.0</td>\n",
       "      <td>0.111111</td>\n",
       "      <td>1.333333</td>\n",
       "      <td>1.0</td>\n",
       "      <td>0.5</td>\n",
       "      <td>0.25</td>\n",
       "      <td>0.75</td>\n",
       "    </tr>\n",
       "    <tr>\n",
       "      <th>15</th>\n",
       "      <td>(meatballs)</td>\n",
       "      <td>(eggs, burgers)</td>\n",
       "      <td>0.666667</td>\n",
       "      <td>0.333333</td>\n",
       "      <td>0.333333</td>\n",
       "      <td>0.5</td>\n",
       "      <td>1.5</td>\n",
       "      <td>1.0</td>\n",
       "      <td>0.111111</td>\n",
       "      <td>1.333333</td>\n",
       "      <td>1.0</td>\n",
       "      <td>0.5</td>\n",
       "      <td>0.25</td>\n",
       "      <td>0.75</td>\n",
       "    </tr>\n",
       "  </tbody>\n",
       "</table>\n",
       "</div>"
      ],
      "text/plain": [
       "             antecedents           consequents  antecedent support  \\\n",
       "1              (burgers)                (eggs)            0.333333   \n",
       "2              (burgers)           (meatballs)            0.333333   \n",
       "14             (burgers)     (eggs, meatballs)            0.333333   \n",
       "10       (eggs, burgers)           (meatballs)            0.333333   \n",
       "11     (eggs, meatballs)             (burgers)            0.333333   \n",
       "12  (burgers, meatballs)                (eggs)            0.333333   \n",
       "0                 (eggs)             (burgers)            0.666667   \n",
       "3            (meatballs)             (burgers)            0.666667   \n",
       "13                (eggs)  (burgers, meatballs)            0.666667   \n",
       "15           (meatballs)       (eggs, burgers)            0.666667   \n",
       "\n",
       "    consequent support   support  confidence  lift  representativity  \\\n",
       "1             0.666667  0.333333         1.0   1.5               1.0   \n",
       "2             0.666667  0.333333         1.0   1.5               1.0   \n",
       "14            0.333333  0.333333         1.0   3.0               1.0   \n",
       "10            0.666667  0.333333         1.0   1.5               1.0   \n",
       "11            0.333333  0.333333         1.0   3.0               1.0   \n",
       "12            0.666667  0.333333         1.0   1.5               1.0   \n",
       "0             0.333333  0.333333         0.5   1.5               1.0   \n",
       "3             0.333333  0.333333         0.5   1.5               1.0   \n",
       "13            0.333333  0.333333         0.5   1.5               1.0   \n",
       "15            0.333333  0.333333         0.5   1.5               1.0   \n",
       "\n",
       "    leverage  conviction  zhangs_metric  jaccard  certainty  kulczynski  \n",
       "1   0.111111         inf            0.5      0.5       1.00        0.75  \n",
       "2   0.111111         inf            0.5      0.5       1.00        0.75  \n",
       "14  0.222222         inf            1.0      1.0       1.00        1.00  \n",
       "10  0.111111         inf            0.5      0.5       1.00        0.75  \n",
       "11  0.222222         inf            1.0      1.0       1.00        1.00  \n",
       "12  0.111111         inf            0.5      0.5       1.00        0.75  \n",
       "0   0.111111    1.333333            1.0      0.5       0.25        0.75  \n",
       "3   0.111111    1.333333            1.0      0.5       0.25        0.75  \n",
       "13  0.111111    1.333333            1.0      0.5       0.25        0.75  \n",
       "15  0.111111    1.333333            1.0      0.5       0.25        0.75  "
      ]
     },
     "execution_count": 69,
     "metadata": {},
     "output_type": "execute_result"
    }
   ],
   "source": [
    "rules.sort_values(by='confidence', ascending=False).head(10)"
   ]
  },
  {
   "cell_type": "code",
   "execution_count": null,
   "id": "7610fac0-8ea7-41ca-be3a-056f9de14be4",
   "metadata": {},
   "outputs": [],
   "source": []
  },
  {
   "cell_type": "code",
   "execution_count": null,
   "id": "0f8cdd86-6475-4bea-a510-6552dbb5be41",
   "metadata": {},
   "outputs": [],
   "source": []
  },
  {
   "cell_type": "code",
   "execution_count": 14,
   "id": "0917b580-bb64-4654-9966-3e056252c0f5",
   "metadata": {},
   "outputs": [],
   "source": [
    "# What is Lift and Why is it Important in Association Rules?\n",
    "\n",
    "Lift measures the strength of a rule by comparing the observed frequency of a rule (X → Y) with the expected frequency if X and Y were independent. A lift value greater than 1 indicates a positive association, meaning the presence of item X increases the likelihood of purchasing item Y. Lift is important because it helps identify meaningful relationships that go beyond mere coincidence."
   ]
  },
  {
   "cell_type": "code",
   "execution_count": null,
   "id": "ee7c9903-8ab6-4939-b0ca-792d769fa446",
   "metadata": {},
   "outputs": [],
   "source": [
    "# What are Support and Confidence? How Do You Calculate Them?\n",
    "\n",
    "Support is the proportion of transactions that contain a particular itemset, calculated as \n",
    "Support\n",
    "(\n",
    "𝑋\n",
    ")\n",
    "=\n",
    "Number of Transactions containing X\n",
    "Total Number of Transactions\n",
    "Support(X)= \n",
    "Total Number of Transactions\n",
    "Number of Transactions containing X\n",
    "​\n",
    " .\n",
    "Confidence is the likelihood of purchasing Y given that X is purchased, calculated as \n",
    "Confidence\n",
    "(\n",
    "𝑋\n",
    "→\n",
    "𝑌\n",
    ")\n",
    "=\n",
    "Support\n",
    "(\n",
    "𝑋\n",
    "∩\n",
    "𝑌\n",
    ")\n",
    "Support\n",
    "(\n",
    "𝑋\n",
    ")\n",
    "Confidence(X→Y)= \n",
    "Support(X)\n",
    "Support(X∩Y)"
   ]
  },
  {
   "cell_type": "code",
   "execution_count": null,
   "id": "12b14118-026c-4f00-8f2e-40dc94751c77",
   "metadata": {},
   "outputs": [],
   "source": [
    "# What are Some Limitations or Challenges of Association Rules Mining?\n",
    "\n",
    "High Dimensionality: In datasets with a large number of items, the number of possible itemsets increases exponentially.\n",
    "Interpretability: It can be challenging to interpret a large number of generated rules, especially if many of them have similar support or confidence.\n",
    "Data Sparsity: Low-frequency itemsets may not appear in the results, which can lead to loss of potentially interesting rules."
   ]
  },
  {
   "cell_type": "code",
   "execution_count": null,
   "id": "b5b70fbe-1a6d-4e46-8548-761290cbcb87",
   "metadata": {},
   "outputs": [],
   "source": []
  },
  {
   "cell_type": "code",
   "execution_count": null,
   "id": "0f9b0d47-6281-41a9-921b-821984ac6a97",
   "metadata": {},
   "outputs": [],
   "source": []
  },
  {
   "cell_type": "code",
   "execution_count": null,
   "id": "93799483-b238-48dd-af52-14c20475b161",
   "metadata": {},
   "outputs": [],
   "source": []
  },
  {
   "cell_type": "code",
   "execution_count": null,
   "id": "a7fd73a7-cf85-441e-832a-6438554acfc7",
   "metadata": {},
   "outputs": [],
   "source": []
  },
  {
   "cell_type": "code",
   "execution_count": null,
   "id": "943747c6-1a17-402f-be62-7dc6574f93dd",
   "metadata": {},
   "outputs": [],
   "source": []
  }
 ],
 "metadata": {
  "kernelspec": {
   "display_name": "Python 3 (ipykernel)",
   "language": "python",
   "name": "python3"
  },
  "language_info": {
   "codemirror_mode": {
    "name": "ipython",
    "version": 3
   },
   "file_extension": ".py",
   "mimetype": "text/x-python",
   "name": "python",
   "nbconvert_exporter": "python",
   "pygments_lexer": "ipython3",
   "version": "3.12.5"
  }
 },
 "nbformat": 4,
 "nbformat_minor": 5
}
