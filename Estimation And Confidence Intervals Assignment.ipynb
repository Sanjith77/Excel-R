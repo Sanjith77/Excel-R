{
 "cells": [
  {
   "cell_type": "code",
   "execution_count": 1,
   "id": "4330e61c-44ef-4c1d-a8bf-27a908f4cfcb",
   "metadata": {},
   "outputs": [],
   "source": [
    "import numpy as np\n",
    "import scipy.stats as stats\n"
   ]
  },
  {
   "cell_type": "code",
   "execution_count": 2,
   "id": "1a47e5d1-1f88-4204-bdca-5124b3b14047",
   "metadata": {},
   "outputs": [],
   "source": [
    "# Durability data (in millions of characters)\n",
    "data = np.array([1.13, 1.55, 1.43, 0.92, 1.25, 1.36, 1.32, 0.85, 1.07, 1.48, 1.20, 1.33, 1.18, 1.22, 1.29])"
   ]
  },
  {
   "cell_type": "code",
   "execution_count": 3,
   "id": "3be67d8d-bcc8-42e2-9d57-e90da5eb528b",
   "metadata": {},
   "outputs": [],
   "source": [
    "# Sample statistics\n",
    "sample_mean = np.mean(data)\n",
    "sample_std = np.std(data, ddof=1)  # Sample standard deviation\n",
    "n = len(data)"
   ]
  },
  {
   "cell_type": "code",
   "execution_count": null,
   "id": "c02dc8cb-35a9-4ead-b34e-3ddc9bcc9782",
   "metadata": {},
   "outputs": [],
   "source": []
  },
  {
   "cell_type": "code",
   "execution_count": 4,
   "id": "efbfb9b6-e578-429d-9876-b476eda1307b",
   "metadata": {},
   "outputs": [],
   "source": [
    "# 99% confidence interval using the t-distribution\n",
    "confidence_level = 0.99\n",
    "alpha = 1 - confidence_level\n",
    "t_critical = stats.t.ppf(1 - alpha/2, df=n-1)\n"
   ]
  },
  {
   "cell_type": "code",
   "execution_count": 7,
   "id": "fb72ffb3-eb2f-4f6d-a238-cf54317e2b53",
   "metadata": {},
   "outputs": [],
   "source": [
    "\n",
    "margin_of_error_t = t_critical * (sample_std / np.sqrt(n))"
   ]
  },
  {
   "cell_type": "code",
   "execution_count": null,
   "id": "7fb8b553-5224-40db-af10-533388732fa6",
   "metadata": {},
   "outputs": [],
   "source": []
  },
  {
   "cell_type": "code",
   "execution_count": 8,
   "id": "e201f8cf-f57d-4dba-8603-a3a03d1d2693",
   "metadata": {},
   "outputs": [],
   "source": [
    "ci_t_lower = sample_mean - margin_of_error_t\n",
    "ci_t_upper = sample_mean + margin_of_error_t\n"
   ]
  },
  {
   "cell_type": "code",
   "execution_count": 9,
   "id": "e7539944-e5f3-49b2-81e0-0b0bc0cb4f75",
   "metadata": {},
   "outputs": [
    {
     "name": "stdout",
     "output_type": "stream",
     "text": [
      "99% Confidence Interval using t-distribution (sample std):\n",
      "Mean: 1.24 million characters\n",
      "Confidence Interval: (1.09, 1.39) million characters\n"
     ]
    }
   ],
   "source": [
    "print(\"99% Confidence Interval using t-distribution (sample std):\")\n",
    "print(f\"Mean: {sample_mean:.2f} million characters\")\n",
    "print(f\"Confidence Interval: ({ci_t_lower:.2f}, {ci_t_upper:.2f}) million characters\")"
   ]
  },
  {
   "cell_type": "code",
   "execution_count": null,
   "id": "27ebb4c6-7fe8-464d-bcf8-c2926bf922b7",
   "metadata": {},
   "outputs": [],
   "source": []
  },
  {
   "cell_type": "code",
   "execution_count": 10,
   "id": "8179d331-e13c-4571-8286-49f0d77b40d4",
   "metadata": {},
   "outputs": [],
   "source": [
    "# Given population standard deviation\n",
    "population_std = 0.2\n"
   ]
  },
  {
   "cell_type": "code",
   "execution_count": null,
   "id": "d07e2b5b-7058-45f6-a353-04e010f2ae12",
   "metadata": {},
   "outputs": [],
   "source": []
  },
  {
   "cell_type": "code",
   "execution_count": 11,
   "id": "33496c39-1242-474e-9f3a-e1e65d4f53d3",
   "metadata": {},
   "outputs": [],
   "source": [
    "\n",
    "z_critical = stats.norm.ppf(1 - alpha/2)\n"
   ]
  },
  {
   "cell_type": "code",
   "execution_count": 12,
   "id": "157bdf54-88d9-4b2b-ae81-61c6a26053f5",
   "metadata": {},
   "outputs": [],
   "source": [
    "# Margin of error using population standard deviation\n",
    "margin_of_error_z = z_critical * (population_std / np.sqrt(n))"
   ]
  },
  {
   "cell_type": "code",
   "execution_count": 13,
   "id": "227d8036-ca63-4903-a508-3eecbd56b950",
   "metadata": {},
   "outputs": [],
   "source": [
    "\n",
    "# Confidence interval using population standard deviation (z-distribution)\n",
    "ci_z_lower = sample_mean - margin_of_error_z\n",
    "ci_z_upper = sample_mean + margin_of_error_z\n"
   ]
  },
  {
   "cell_type": "code",
   "execution_count": null,
   "id": "f6f2916c-0348-42ed-89d1-2ac8f5190b6f",
   "metadata": {},
   "outputs": [],
   "source": []
  },
  {
   "cell_type": "code",
   "execution_count": 14,
   "id": "3bd13e24-ab68-450f-90e2-0ac33ddc881d",
   "metadata": {},
   "outputs": [
    {
     "name": "stdout",
     "output_type": "stream",
     "text": [
      "\n",
      "99% Confidence Interval using z-distribution (population std):\n",
      "Mean: 1.24 million characters\n",
      "Confidence Interval: (1.11, 1.37) million characters\n"
     ]
    }
   ],
   "source": [
    "print(\"\\n99% Confidence Interval using z-distribution (population std):\")\n",
    "print(f\"Mean: {sample_mean:.2f} million characters\")\n",
    "print(f\"Confidence Interval: ({ci_z_lower:.2f}, {ci_z_upper:.2f}) million characters\")"
   ]
  },
  {
   "cell_type": "code",
   "execution_count": null,
   "id": "0c3d23b0-8be5-425f-8e96-ad24a6c79ba4",
   "metadata": {},
   "outputs": [],
   "source": []
  },
  {
   "cell_type": "code",
   "execution_count": null,
   "id": "416462ef-0745-48dd-9a2e-119bd7b1e9fc",
   "metadata": {},
   "outputs": [],
   "source": []
  },
  {
   "cell_type": "code",
   "execution_count": null,
   "id": "e2524ec5-aeb2-459d-a227-ab9cd97880c5",
   "metadata": {},
   "outputs": [],
   "source": []
  },
  {
   "cell_type": "code",
   "execution_count": null,
   "id": "ee6852e7-3ea8-4ed0-9aee-305bbbd6a06e",
   "metadata": {},
   "outputs": [],
   "source": []
  },
  {
   "cell_type": "code",
   "execution_count": null,
   "id": "4352a878-d127-4695-838f-d564c1a7953e",
   "metadata": {},
   "outputs": [],
   "source": []
  }
 ],
 "metadata": {
  "kernelspec": {
   "display_name": "Python 3 (ipykernel)",
   "language": "python",
   "name": "python3"
  },
  "language_info": {
   "codemirror_mode": {
    "name": "ipython",
    "version": 3
   },
   "file_extension": ".py",
   "mimetype": "text/x-python",
   "name": "python",
   "nbconvert_exporter": "python",
   "pygments_lexer": "ipython3",
   "version": "3.12.5"
  }
 },
 "nbformat": 4,
 "nbformat_minor": 5
}
