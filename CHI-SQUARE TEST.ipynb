{
 "cells": [
  {
   "cell_type": "code",
   "execution_count": 1,
   "id": "fed4a304-9a25-4cf1-8816-c111c7fd9b4b",
   "metadata": {},
   "outputs": [],
   "source": [
    "import numpy as np\n",
    "import pandas as pd\n",
    "import scipy.stats as stats\n",
    "import matplotlib.pyplot as plt"
   ]
  },
  {
   "cell_type": "markdown",
   "id": "d44c44b8-5123-4d3e-9a01-6f5a1cdc9c29",
   "metadata": {},
   "source": [
    "# Creating the observed frequency table"
   ]
  },
  {
   "cell_type": "code",
   "execution_count": 2,
   "id": "c7a45756-9407-40b0-98c0-64f25c71dc64",
   "metadata": {},
   "outputs": [],
   "source": [
    "data = {'Smart Thermostat': [50, 80, 60, 30, 20],\n",
    "        'Smart Light': [70, 100, 90, 50, 50]}\n",
    "satisfaction_levels = ['Very Satisfied', 'Satisfied', 'Neutral', 'Unsatisfied', 'Very Unsatisfied']"
   ]
  },
  {
   "cell_type": "markdown",
   "id": "be5ca059-d2fe-4481-ab7b-e28cb422a477",
   "metadata": {},
   "source": [
    "# Creating a DataFrame"
   ]
  },
  {
   "cell_type": "code",
   "execution_count": 3,
   "id": "85b81259-bdb4-42a0-b524-7f432719b679",
   "metadata": {},
   "outputs": [],
   "source": [
    "observed_df = pd.DataFrame(data, index=satisfaction_levels)\n"
   ]
  },
  {
   "cell_type": "markdown",
   "id": "26ff557c-d03b-4f36-b59a-0e0b4817cbd6",
   "metadata": {},
   "source": [
    "# Display the observed data"
   ]
  },
  {
   "cell_type": "code",
   "execution_count": 4,
   "id": "1ab09f1d-5c81-4e8b-8327-8ae345b5fb8b",
   "metadata": {},
   "outputs": [
    {
     "name": "stdout",
     "output_type": "stream",
     "text": [
      "Observed Frequencies:\n"
     ]
    },
    {
     "data": {
      "text/html": [
       "<div>\n",
       "<style scoped>\n",
       "    .dataframe tbody tr th:only-of-type {\n",
       "        vertical-align: middle;\n",
       "    }\n",
       "\n",
       "    .dataframe tbody tr th {\n",
       "        vertical-align: top;\n",
       "    }\n",
       "\n",
       "    .dataframe thead th {\n",
       "        text-align: right;\n",
       "    }\n",
       "</style>\n",
       "<table border=\"1\" class=\"dataframe\">\n",
       "  <thead>\n",
       "    <tr style=\"text-align: right;\">\n",
       "      <th></th>\n",
       "      <th>Smart Thermostat</th>\n",
       "      <th>Smart Light</th>\n",
       "    </tr>\n",
       "  </thead>\n",
       "  <tbody>\n",
       "    <tr>\n",
       "      <th>Very Satisfied</th>\n",
       "      <td>50</td>\n",
       "      <td>70</td>\n",
       "    </tr>\n",
       "    <tr>\n",
       "      <th>Satisfied</th>\n",
       "      <td>80</td>\n",
       "      <td>100</td>\n",
       "    </tr>\n",
       "    <tr>\n",
       "      <th>Neutral</th>\n",
       "      <td>60</td>\n",
       "      <td>90</td>\n",
       "    </tr>\n",
       "    <tr>\n",
       "      <th>Unsatisfied</th>\n",
       "      <td>30</td>\n",
       "      <td>50</td>\n",
       "    </tr>\n",
       "    <tr>\n",
       "      <th>Very Unsatisfied</th>\n",
       "      <td>20</td>\n",
       "      <td>50</td>\n",
       "    </tr>\n",
       "  </tbody>\n",
       "</table>\n",
       "</div>"
      ],
      "text/plain": [
       "                  Smart Thermostat  Smart Light\n",
       "Very Satisfied                  50           70\n",
       "Satisfied                       80          100\n",
       "Neutral                         60           90\n",
       "Unsatisfied                     30           50\n",
       "Very Unsatisfied                20           50"
      ]
     },
     "metadata": {},
     "output_type": "display_data"
    }
   ],
   "source": [
    "print(\"Observed Frequencies:\")\n",
    "display(observed_df)\n"
   ]
  },
  {
   "cell_type": "markdown",
   "id": "1758a4aa-8099-40f3-a90b-99b94c610d39",
   "metadata": {},
   "source": [
    "# Performing the Chi-Square Test"
   ]
  },
  {
   "cell_type": "code",
   "execution_count": 5,
   "id": "a4218655-c56e-4b6c-8b55-23c2787edc36",
   "metadata": {},
   "outputs": [],
   "source": [
    "chi2_stat, p_val, dof, expected = stats.chi2_contingency(observed_df)\n"
   ]
  },
  {
   "cell_type": "markdown",
   "id": "16a5f263-6d24-4ab6-a347-f6b8f1adb73f",
   "metadata": {},
   "source": [
    "# Displaying the expected frequencies"
   ]
  },
  {
   "cell_type": "code",
   "execution_count": 6,
   "id": "f6100634-39dc-4afe-a8bc-9a2cf42e76a8",
   "metadata": {},
   "outputs": [
    {
     "name": "stdout",
     "output_type": "stream",
     "text": [
      "\n",
      "Expected Frequencies:\n"
     ]
    },
    {
     "data": {
      "text/html": [
       "<div>\n",
       "<style scoped>\n",
       "    .dataframe tbody tr th:only-of-type {\n",
       "        vertical-align: middle;\n",
       "    }\n",
       "\n",
       "    .dataframe tbody tr th {\n",
       "        vertical-align: top;\n",
       "    }\n",
       "\n",
       "    .dataframe thead th {\n",
       "        text-align: right;\n",
       "    }\n",
       "</style>\n",
       "<table border=\"1\" class=\"dataframe\">\n",
       "  <thead>\n",
       "    <tr style=\"text-align: right;\">\n",
       "      <th></th>\n",
       "      <th>Smart Thermostat</th>\n",
       "      <th>Smart Light</th>\n",
       "    </tr>\n",
       "  </thead>\n",
       "  <tbody>\n",
       "    <tr>\n",
       "      <th>Very Satisfied</th>\n",
       "      <td>48.0</td>\n",
       "      <td>72.0</td>\n",
       "    </tr>\n",
       "    <tr>\n",
       "      <th>Satisfied</th>\n",
       "      <td>72.0</td>\n",
       "      <td>108.0</td>\n",
       "    </tr>\n",
       "    <tr>\n",
       "      <th>Neutral</th>\n",
       "      <td>60.0</td>\n",
       "      <td>90.0</td>\n",
       "    </tr>\n",
       "    <tr>\n",
       "      <th>Unsatisfied</th>\n",
       "      <td>32.0</td>\n",
       "      <td>48.0</td>\n",
       "    </tr>\n",
       "    <tr>\n",
       "      <th>Very Unsatisfied</th>\n",
       "      <td>28.0</td>\n",
       "      <td>42.0</td>\n",
       "    </tr>\n",
       "  </tbody>\n",
       "</table>\n",
       "</div>"
      ],
      "text/plain": [
       "                  Smart Thermostat  Smart Light\n",
       "Very Satisfied                48.0         72.0\n",
       "Satisfied                     72.0        108.0\n",
       "Neutral                       60.0         90.0\n",
       "Unsatisfied                   32.0         48.0\n",
       "Very Unsatisfied              28.0         42.0"
      ]
     },
     "metadata": {},
     "output_type": "display_data"
    }
   ],
   "source": [
    "expected_df = pd.DataFrame(expected, index=satisfaction_levels, columns=['Smart Thermostat', 'Smart Light'])\n",
    "print(\"\\nExpected Frequencies:\")\n",
    "display(expected_df)"
   ]
  },
  {
   "cell_type": "code",
   "execution_count": 7,
   "id": "ed563d9b-62c0-4a67-8a38-917be5b2675d",
   "metadata": {},
   "outputs": [
    {
     "name": "stdout",
     "output_type": "stream",
     "text": [
      "\n",
      "Chi-Square Statistic: 5.638227513227513\n",
      "p-value: 0.22784371130697179\n",
      "Degrees of Freedom: 4\n"
     ]
    }
   ],
   "source": [
    "# Chi-Square Statistic and p-value\n",
    "print(f\"\\nChi-Square Statistic: {chi2_stat}\")\n",
    "print(f\"p-value: {p_val}\")\n",
    "print(f\"Degrees of Freedom: {dof}\")"
   ]
  },
  {
   "cell_type": "code",
   "execution_count": null,
   "id": "5240ce36-a15e-4dfc-b4d6-b1af2945dc93",
   "metadata": {},
   "outputs": [],
   "source": []
  },
  {
   "cell_type": "markdown",
   "id": "2a5d18d3-e313-4371-91bc-1aff8524eca8",
   "metadata": {},
   "source": [
    "# Critical Value for significance level alpha = 0.05 and df = 4"
   ]
  },
  {
   "cell_type": "code",
   "execution_count": 8,
   "id": "d5ec2f12-79d5-4037-a2ad-69f223ec8e95",
   "metadata": {},
   "outputs": [
    {
     "name": "stdout",
     "output_type": "stream",
     "text": [
      "Critical Value (alpha = 0.05): 9.487729036781154\n"
     ]
    }
   ],
   "source": [
    "alpha = 0.05\n",
    "critical_value = stats.chi2.ppf(1 - alpha, dof)\n",
    "print(f\"Critical Value (alpha = 0.05): {critical_value}\")"
   ]
  },
  {
   "cell_type": "code",
   "execution_count": null,
   "id": "b4ee6b2b-ac2a-4556-8ea5-4ca04f684e2d",
   "metadata": {},
   "outputs": [],
   "source": []
  },
  {
   "cell_type": "markdown",
   "id": "b206200d-fbfb-4ab1-94d6-8d9fc631bfd1",
   "metadata": {},
   "source": [
    "# Decision: Compare Chi-Square statistic with the critical value"
   ]
  },
  {
   "cell_type": "code",
   "execution_count": 9,
   "id": "db9460c0-05ba-490e-b04a-b71cd6d9afeb",
   "metadata": {},
   "outputs": [
    {
     "name": "stdout",
     "output_type": "stream",
     "text": [
      "\n",
      "Decision: Fail to reject the null hypothesis - There is no significant association between the type of device and customer satisfaction.\n"
     ]
    }
   ],
   "source": [
    "if chi2_stat > critical_value:\n",
    "    print(\"\\nDecision: Reject the null hypothesis - There is a significant association between the type of device and customer satisfaction.\")\n",
    "else:\n",
    "    print(\"\\nDecision: Fail to reject the null hypothesis - There is no significant association between the type of device and customer satisfaction.\")"
   ]
  },
  {
   "cell_type": "code",
   "execution_count": null,
   "id": "f5fca398-ae9e-48c5-8293-61c24bc8fdf0",
   "metadata": {},
   "outputs": [],
   "source": []
  },
  {
   "cell_type": "markdown",
   "id": "163cdb0c-fedf-41d8-9536-b994af0374c5",
   "metadata": {},
   "source": [
    "# Plotting the observed vs expected frequencies"
   ]
  },
  {
   "cell_type": "code",
   "execution_count": 10,
   "id": "aa41805e-3bc9-46e6-bf1b-4fd1fc4be577",
   "metadata": {},
   "outputs": [
    {
     "data": {
      "image/png": "[encoded data removed]",
      "text/plain": [
       "<Figure size 640x480 with 1 Axes>"
      ]
     },
     "metadata": {},
     "output_type": "display_data"
    }
   ],
   "source": [
    "\n",
    "observed_df.plot(kind='bar', stacked=True)\n",
    "plt.title('Observed Frequencies of Customer Satisfaction')\n",
    "plt.xlabel('Satisfaction Level')\n",
    "plt.ylabel('Number of Customers')\n",
    "plt.show()"
   ]
  },
  {
   "cell_type": "code",
   "execution_count": null,
   "id": "6ddcd7b1-17b3-40d9-a717-1dae7043fc8a",
   "metadata": {},
   "outputs": [],
   "source": []
  },
  {
   "cell_type": "code",
   "execution_count": 11,
   "id": "3fd8a49f-e5be-42bd-8291-13070fcfb782",
   "metadata": {},
   "outputs": [
    {
     "data": {
      "image/png": "[encoded data removed]",
      "text/plain": [
       "<Figure size 640x480 with 1 Axes>"
      ]
     },
     "metadata": {},
     "output_type": "display_data"
    }
   ],
   "source": [
    "expected_df.plot(kind='bar', stacked=True)\n",
    "plt.title('Expected Frequencies of Customer Satisfaction')\n",
    "plt.xlabel('Satisfaction Level')\n",
    "plt.ylabel('Number of Customers')\n",
    "plt.show()"
   ]
  },
  {
   "cell_type": "code",
   "execution_count": null,
   "id": "b85373ad-5cc9-497b-b669-d8dc6539c545",
   "metadata": {},
   "outputs": [],
   "source": []
  },
  {
   "cell_type": "code",
   "execution_count": null,
   "id": "da550731-c4fc-41b0-ac15-66bfdf699296",
   "metadata": {},
   "outputs": [],
   "source": []
  },
  {
   "cell_type": "code",
   "execution_count": null,
   "id": "f3be5676-13f1-46c6-87d5-e5ce90a2f6f1",
   "metadata": {},
   "outputs": [],
   "source": []
  },
  {
   "cell_type": "code",
   "execution_count": null,
   "id": "561e5957-1164-4b8b-a714-0c5e34f00bf2",
   "metadata": {},
   "outputs": [],
   "source": []
  },
  {
   "cell_type": "code",
   "execution_count": null,
   "id": "d5ae544b-b171-495d-9da9-436814b8beca",
   "metadata": {},
   "outputs": [],
   "source": []
  }
 ],
 "metadata": {
  "kernelspec": {
   "display_name": "Python 3 (ipykernel)",
   "language": "python",
   "name": "python3"
  },
  "language_info": {
   "codemirror_mode": {
    "name": "ipython",
    "version": 3
   },
   "file_extension": ".py",
   "mimetype": "text/x-python",
   "name": "python",
   "nbconvert_exporter": "python",
   "pygments_lexer": "ipython3",
   "version": "3.12.5"
  }
 },
 "nbformat": 4,
 "nbformat_minor": 5
}
